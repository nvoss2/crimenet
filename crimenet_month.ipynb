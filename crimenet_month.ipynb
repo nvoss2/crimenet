{
 "cells": [
  {
   "cell_type": "markdown",
   "metadata": {},
   "source": [
    "# Neal Voss\n",
    "# CSC 7700 Section 1\n",
    "# Spring 2017\n",
    "# Final Project"
   ]
  },
  {
   "cell_type": "markdown",
   "metadata": {},
   "source": [
    "Note: the other notebooks are the same except for minor variations (group by day instead of month, group by day & filter only theft crimes)"
   ]
  },
  {
   "cell_type": "markdown",
   "metadata": {},
   "source": [
    "Import all necessary modules"
   ]
  },
  {
   "cell_type": "code",
   "execution_count": null,
   "metadata": {
    "collapsed": true
   },
   "outputs": [],
   "source": [
    "import pandas as pd\n",
    "import numpy as np\n",
    "import matplotlib.pyplot as plt\n",
    "from sklearn.preprocessing import MinMaxScaler\n",
    "from sklearn.metrics import mean_squared_error\n",
    "from keras.layers import LSTM\n",
    "import math"
   ]
  },
  {
   "cell_type": "markdown",
   "metadata": {},
   "source": [
    "## Part 0: Data Preprocessing"
   ]
  },
  {
   "cell_type": "markdown",
   "metadata": {},
   "source": [
    "Read in the data using pandas"
   ]
  },
  {
   "cell_type": "code",
   "execution_count": 2,
   "metadata": {
    "collapsed": false
   },
   "outputs": [
    {
     "name": "stderr",
     "output_type": "stream",
     "text": [
      "/home/mani/anaconda3/lib/python3.6/site-packages/IPython/core/interactiveshell.py:2717: DtypeWarning: Columns (2) have mixed types. Specify dtype option on import or set low_memory=False.\n",
      "  interactivity=interactivity, compiler=compiler, result=result)\n"
     ]
    }
   ],
   "source": [
    "crimedf=pd.read_csv('crime_mar2017.csv',na_values=['nan'])"
   ]
  },
  {
   "cell_type": "markdown",
   "metadata": {},
   "source": [
    "Sample of the data"
   ]
  },
  {
   "cell_type": "code",
   "execution_count": 3,
   "metadata": {
    "collapsed": false
   },
   "outputs": [
    {
     "data": {
      "text/html": [
       "<div>\n",
       "<table border=\"1\" class=\"dataframe\">\n",
       "  <thead>\n",
       "    <tr style=\"text-align: right;\">\n",
       "      <th></th>\n",
       "      <th>FILE NUMBER</th>\n",
       "      <th>OFFENSE DATE</th>\n",
       "      <th>OFFENSE TIME</th>\n",
       "      <th>CRIME</th>\n",
       "      <th>COMMITTED</th>\n",
       "      <th>OFFENSE</th>\n",
       "      <th>OFFENSE DESC</th>\n",
       "      <th>ADDRESS</th>\n",
       "      <th>ST NUMBER</th>\n",
       "      <th>ST DIR</th>\n",
       "      <th>ST NAME</th>\n",
       "      <th>ST TYPE</th>\n",
       "      <th>CITY</th>\n",
       "      <th>STATE</th>\n",
       "      <th>ZIP</th>\n",
       "      <th>DISTRICT</th>\n",
       "      <th>ZONE</th>\n",
       "      <th>SUBZONE</th>\n",
       "      <th>COMPLETE DISTRICT</th>\n",
       "      <th>GEOLOCATION</th>\n",
       "    </tr>\n",
       "  </thead>\n",
       "  <tbody>\n",
       "    <tr>\n",
       "      <th>0</th>\n",
       "      <td>1.100128e+09</td>\n",
       "      <td>12/09/2011</td>\n",
       "      <td>1450</td>\n",
       "      <td>THEFT</td>\n",
       "      <td>COMMITTED</td>\n",
       "      <td>14:68.4</td>\n",
       "      <td>UNAU USE OF MOTOR VEHICLE</td>\n",
       "      <td>7234  AIRLINE HW</td>\n",
       "      <td>7234.0</td>\n",
       "      <td>NaN</td>\n",
       "      <td>AIRLINE</td>\n",
       "      <td>HW</td>\n",
       "      <td>BATON ROUGE</td>\n",
       "      <td>LA</td>\n",
       "      <td>NaN</td>\n",
       "      <td>1</td>\n",
       "      <td>F</td>\n",
       "      <td>2</td>\n",
       "      <td>1F2</td>\n",
       "      <td>7234 AIRLINE HW\\nBATON ROUGE, LA\\n(30.482565, ...</td>\n",
       "    </tr>\n",
       "    <tr>\n",
       "      <th>1</th>\n",
       "      <td>1.400033e+09</td>\n",
       "      <td>04/23/2014</td>\n",
       "      <td>1200</td>\n",
       "      <td>BATTERY</td>\n",
       "      <td>COMMITTED</td>\n",
       "      <td>13:35</td>\n",
       "      <td>BATT/SIMPLE/CC</td>\n",
       "      <td>5900  PEERLESS ST</td>\n",
       "      <td>5900.0</td>\n",
       "      <td>NaN</td>\n",
       "      <td>PEERLESS</td>\n",
       "      <td>ST</td>\n",
       "      <td>BATON ROUGE</td>\n",
       "      <td>LA</td>\n",
       "      <td>NaN</td>\n",
       "      <td>4</td>\n",
       "      <td>D</td>\n",
       "      <td>1</td>\n",
       "      <td>4D1</td>\n",
       "      <td>5900 PEERLESS ST\\nBATON ROUGE, LA\\n(30.516849,...</td>\n",
       "    </tr>\n",
       "    <tr>\n",
       "      <th>2</th>\n",
       "      <td>1.200069e+09</td>\n",
       "      <td>07/01/2012</td>\n",
       "      <td>1400</td>\n",
       "      <td>THEFT</td>\n",
       "      <td>COMMITTED</td>\n",
       "      <td>13:67</td>\n",
       "      <td>THEFT/MISD/CC</td>\n",
       "      <td>10250  PLAZA AMERICANA DR</td>\n",
       "      <td>10250.0</td>\n",
       "      <td>NaN</td>\n",
       "      <td>PLAZA AMERICANA</td>\n",
       "      <td>DR</td>\n",
       "      <td>BATON ROUGE</td>\n",
       "      <td>LA</td>\n",
       "      <td>70815</td>\n",
       "      <td>3</td>\n",
       "      <td>C</td>\n",
       "      <td>3</td>\n",
       "      <td>3C3</td>\n",
       "      <td>10250 PLAZA AMERICANA DR\\nBATON ROUGE, LA 7081...</td>\n",
       "    </tr>\n",
       "    <tr>\n",
       "      <th>3</th>\n",
       "      <td>1.400004e+09</td>\n",
       "      <td>01/16/2014</td>\n",
       "      <td>1215</td>\n",
       "      <td>BATTERY</td>\n",
       "      <td>COMMITTED</td>\n",
       "      <td>13:35</td>\n",
       "      <td>BATT/SIMPLE/CC</td>\n",
       "      <td>964 N 48TH</td>\n",
       "      <td>964.0</td>\n",
       "      <td>N</td>\n",
       "      <td>48TH</td>\n",
       "      <td>NaN</td>\n",
       "      <td>BATON ROUGE</td>\n",
       "      <td>LA</td>\n",
       "      <td>70802</td>\n",
       "      <td>NaN</td>\n",
       "      <td>NaN</td>\n",
       "      <td>NaN</td>\n",
       "      <td>NaN</td>\n",
       "      <td>964 N 48TH\\nBATON ROUGE, LA 70802\\n(30.457107,...</td>\n",
       "    </tr>\n",
       "    <tr>\n",
       "      <th>4</th>\n",
       "      <td>1.600116e+09</td>\n",
       "      <td>11/21/2016</td>\n",
       "      <td>930</td>\n",
       "      <td>CRIMINAL DAMAGE TO PROPERTY</td>\n",
       "      <td>COMMITTED</td>\n",
       "      <td>14:56</td>\n",
       "      <td>CRIM DAM TO PROP/SIMPLE</td>\n",
       "      <td>5950  ST GERARD AV</td>\n",
       "      <td>5950.0</td>\n",
       "      <td>NaN</td>\n",
       "      <td>ST GERARD</td>\n",
       "      <td>AV</td>\n",
       "      <td>BATON ROUGE</td>\n",
       "      <td>LA</td>\n",
       "      <td>70805</td>\n",
       "      <td>4</td>\n",
       "      <td>F</td>\n",
       "      <td>2</td>\n",
       "      <td>4F2</td>\n",
       "      <td>5950 ST GERARD AV\\nBATON ROUGE, LA 70805\\n(30....</td>\n",
       "    </tr>\n",
       "  </tbody>\n",
       "</table>\n",
       "</div>"
      ],
      "text/plain": [
       "    FILE NUMBER OFFENSE DATE OFFENSE TIME                        CRIME  \\\n",
       "0  1.100128e+09   12/09/2011         1450                        THEFT   \n",
       "1  1.400033e+09   04/23/2014         1200                      BATTERY   \n",
       "2  1.200069e+09   07/01/2012         1400                        THEFT   \n",
       "3  1.400004e+09   01/16/2014         1215                      BATTERY   \n",
       "4  1.600116e+09   11/21/2016          930  CRIMINAL DAMAGE TO PROPERTY   \n",
       "\n",
       "   COMMITTED  OFFENSE               OFFENSE DESC                    ADDRESS  \\\n",
       "0  COMMITTED  14:68.4  UNAU USE OF MOTOR VEHICLE           7234  AIRLINE HW   \n",
       "1  COMMITTED    13:35             BATT/SIMPLE/CC          5900  PEERLESS ST   \n",
       "2  COMMITTED    13:67              THEFT/MISD/CC  10250  PLAZA AMERICANA DR   \n",
       "3  COMMITTED    13:35             BATT/SIMPLE/CC                 964 N 48TH   \n",
       "4  COMMITTED    14:56    CRIM DAM TO PROP/SIMPLE         5950  ST GERARD AV   \n",
       "\n",
       "   ST NUMBER ST DIR          ST NAME ST TYPE         CITY STATE    ZIP  \\\n",
       "0     7234.0    NaN          AIRLINE      HW  BATON ROUGE    LA    NaN   \n",
       "1     5900.0    NaN         PEERLESS      ST  BATON ROUGE    LA    NaN   \n",
       "2    10250.0    NaN  PLAZA AMERICANA      DR  BATON ROUGE    LA  70815   \n",
       "3      964.0      N             48TH     NaN  BATON ROUGE    LA  70802   \n",
       "4     5950.0    NaN        ST GERARD      AV  BATON ROUGE    LA  70805   \n",
       "\n",
       "  DISTRICT ZONE SUBZONE COMPLETE DISTRICT  \\\n",
       "0        1    F       2               1F2   \n",
       "1        4    D       1               4D1   \n",
       "2        3    C       3               3C3   \n",
       "3      NaN  NaN     NaN               NaN   \n",
       "4        4    F       2               4F2   \n",
       "\n",
       "                                         GEOLOCATION  \n",
       "0  7234 AIRLINE HW\\nBATON ROUGE, LA\\n(30.482565, ...  \n",
       "1  5900 PEERLESS ST\\nBATON ROUGE, LA\\n(30.516849,...  \n",
       "2  10250 PLAZA AMERICANA DR\\nBATON ROUGE, LA 7081...  \n",
       "3  964 N 48TH\\nBATON ROUGE, LA 70802\\n(30.457107,...  \n",
       "4  5950 ST GERARD AV\\nBATON ROUGE, LA 70805\\n(30....  "
      ]
     },
     "execution_count": 3,
     "metadata": {},
     "output_type": "execute_result"
    }
   ],
   "source": [
    "crimedf.head(5)"
   ]
  },
  {
   "cell_type": "markdown",
   "metadata": {},
   "source": [
    "Filter out duplicate entries"
   ]
  },
  {
   "cell_type": "code",
   "execution_count": 4,
   "metadata": {
    "collapsed": false
   },
   "outputs": [
    {
     "data": {
      "text/plain": [
       "(318523, 20)"
      ]
     },
     "execution_count": 4,
     "metadata": {},
     "output_type": "execute_result"
    }
   ],
   "source": [
    "crimedf=crimedf.drop_duplicates(['OFFENSE DATE','OFFENSE TIME','GEOLOCATION','CRIME','OFFENSE DESC'])\n",
    "crimedf.shape"
   ]
  },
  {
   "cell_type": "markdown",
   "metadata": {},
   "source": [
    "Filter out crimes that were only attempted instead of committed"
   ]
  },
  {
   "cell_type": "code",
   "execution_count": 5,
   "metadata": {
    "collapsed": false
   },
   "outputs": [
    {
     "data": {
      "text/plain": [
       "(311797, 20)"
      ]
     },
     "execution_count": 5,
     "metadata": {},
     "output_type": "execute_result"
    }
   ],
   "source": [
    "crimedf=crimedf[crimedf['COMMITTED']=='COMMITTED']\n",
    "crimedf.shape"
   ]
  },
  {
   "cell_type": "code",
   "execution_count": 6,
   "metadata": {
    "collapsed": false
   },
   "outputs": [],
   "source": [
    "crimedf['OFFENSE DATE']=pd.to_datetime(crimedf['OFFENSE DATE'])"
   ]
  },
  {
   "cell_type": "markdown",
   "metadata": {},
   "source": [
    "Optional: shorten dataframe to end of 2016"
   ]
  },
  {
   "cell_type": "code",
   "execution_count": 7,
   "metadata": {
    "collapsed": false
   },
   "outputs": [
    {
     "data": {
      "text/plain": [
       "(300387, 20)"
      ]
     },
     "execution_count": 7,
     "metadata": {},
     "output_type": "execute_result"
    }
   ],
   "source": [
    "crimedf=crimedf[crimedf['OFFENSE DATE'].dt.year < 2017]\n",
    "crimedf.shape"
   ]
  },
  {
   "cell_type": "code",
   "execution_count": 8,
   "metadata": {
    "collapsed": false
   },
   "outputs": [
    {
     "data": {
      "text/plain": [
       "(300387, 20)"
      ]
     },
     "execution_count": 8,
     "metadata": {},
     "output_type": "execute_result"
    }
   ],
   "source": [
    "crimedf.dropna(subset=['CRIME'],inplace=True)\n",
    "crimedf.shape"
   ]
  },
  {
   "cell_type": "markdown",
   "metadata": {},
   "source": [
    "Create time series by finding crime counts of entries grouped by month"
   ]
  },
  {
   "cell_type": "code",
   "execution_count": 9,
   "metadata": {
    "collapsed": false
   },
   "outputs": [],
   "source": [
    "crimegroup=crimedf.groupby(pd.Grouper(key='OFFENSE DATE', freq='M')).count()"
   ]
  },
  {
   "cell_type": "code",
   "execution_count": 10,
   "metadata": {
    "collapsed": false
   },
   "outputs": [
    {
     "data": {
      "text/plain": [
       "OFFENSE DATE\n",
       "2011-01-31    5006\n",
       "2011-02-28    4532\n",
       "2011-03-31    5369\n",
       "2011-04-30    5525\n",
       "2011-05-31    5679\n",
       "2011-06-30    5363\n",
       "2011-07-31    5625\n",
       "2011-08-31    5125\n",
       "2011-09-30    4887\n",
       "2011-10-31    4765\n",
       "Freq: M, Name: CRIME, dtype: int64"
      ]
     },
     "execution_count": 10,
     "metadata": {},
     "output_type": "execute_result"
    }
   ],
   "source": [
    "crimegroup=crimegroup['CRIME']\n",
    "crimegroup.head(10)"
   ]
  },
  {
   "cell_type": "markdown",
   "metadata": {},
   "source": [
    "Visualization"
   ]
  },
  {
   "cell_type": "code",
   "execution_count": 11,
   "metadata": {
    "collapsed": false
   },
   "outputs": [
    {
     "data": {
      "image/png": "[encoded data removed]",
      "text/plain": [
       "<matplotlib.figure.Figure at 0x7f7931f29ba8>"
      ]
     },
     "metadata": {},
     "output_type": "display_data"
    }
   ],
   "source": [
    "plt.plot(crimegroup)\n",
    "plt.show()"
   ]
  },
  {
   "cell_type": "markdown",
   "metadata": {},
   "source": [
    "## Part 1: Time Series Forecasting"
   ]
  },
  {
   "cell_type": "markdown",
   "metadata": {},
   "source": [
    "For reproducibility"
   ]
  },
  {
   "cell_type": "code",
   "execution_count": 12,
   "metadata": {
    "collapsed": true
   },
   "outputs": [],
   "source": [
    "np.random.seed(419)"
   ]
  },
  {
   "cell_type": "markdown",
   "metadata": {},
   "source": [
    "Create training and testing datasets"
   ]
  },
  {
   "cell_type": "code",
   "execution_count": 49,
   "metadata": {
    "collapsed": false
   },
   "outputs": [
    {
     "name": "stdout",
     "output_type": "stream",
     "text": [
      "[5006 4532 5369 5525 5679 5363]\n",
      "[3864 3527 3943 3859 3940 3801]\n"
     ]
    }
   ],
   "source": [
    "train=crimegroup[crimegroup.index.year<2016].values\n",
    "test=crimegroup[crimegroup.index.year>=2016].values\n",
    "print(train[:6])\n",
    "print(test[:6])"
   ]
  },
  {
   "cell_type": "code",
   "execution_count": 50,
   "metadata": {
    "collapsed": false
   },
   "outputs": [
    {
     "name": "stdout",
     "output_type": "stream",
     "text": [
      "[[5006]\n",
      " [4532]\n",
      " [5369]\n",
      " [5525]\n",
      " [5679]\n",
      " [5363]]\n"
     ]
    }
   ],
   "source": [
    "train=np.reshape(train,(-1,1))\n",
    "test=np.reshape(test,(-1,1))\n",
    "print(train[:6])"
   ]
  },
  {
   "cell_type": "markdown",
   "metadata": {},
   "source": [
    "Create time lag vectors where each entry is of the form X=[t0,t-1,t-2,...t-L],Y=t+1"
   ]
  },
  {
   "cell_type": "code",
   "execution_count": 51,
   "metadata": {
    "collapsed": true
   },
   "outputs": [],
   "source": [
    "def create_dataset(dataset, look_back=1):\n",
    "\tdataX, dataY = [], []\n",
    "\tfor i in range(len(dataset)-look_back-1):\n",
    "\t\ta = dataset[i:(i+look_back), 0]\n",
    "\t\tdataX.append(a)\n",
    "\t\tdataY.append(dataset[i + look_back, 0])\n",
    "\treturn np.array(dataX), np.array(dataY)"
   ]
  },
  {
   "cell_type": "code",
   "execution_count": 52,
   "metadata": {
    "collapsed": false
   },
   "outputs": [
    {
     "name": "stdout",
     "output_type": "stream",
     "text": [
      "(55, 4) (55,) (7, 4) (7,)\n"
     ]
    }
   ],
   "source": [
    "look_back = 1\n",
    "trainX, trainY = create_dataset(train, look_back)\n",
    "testX, testY = create_dataset(test, look_back)\n",
    "print(trainX.shape,trainY.shape,testX.shape,testY.shape)"
   ]
  },
  {
   "cell_type": "markdown",
   "metadata": {},
   "source": [
    "Compile and train feedforward model"
   ]
  },
  {
   "cell_type": "code",
   "execution_count": 53,
   "metadata": {
    "collapsed": false
   },
   "outputs": [],
   "source": [
    "from keras.models import Sequential\n",
    "from keras.layers import Dense"
   ]
  },
  {
   "cell_type": "code",
   "execution_count": 54,
   "metadata": {
    "collapsed": true
   },
   "outputs": [],
   "source": [
    "model = Sequential()\n",
    "model.add(Dense(look_back, input_dim=look_back, activation='relu'))\n",
    "model.add(Dense(look_back))\n",
    "model.add(Dense(1))\n",
    "model.compile(loss='mean_squared_error', optimizer='adam',metrics=['accuracy'])"
   ]
  },
  {
   "cell_type": "code",
   "execution_count": 55,
   "metadata": {
    "collapsed": false
   },
   "outputs": [
    {
     "name": "stdout",
     "output_type": "stream",
     "text": [
      "Train on 55 samples, validate on 7 samples\n",
      "Epoch 1/200\n",
      "55/55 [==============================] - 0s - loss: 25074003.3455 - acc: 0.0000e+00 - val_loss: 16077261.4286 - val_acc: 0.0000e+00\b\b\b\b\b\b\b\b\b\b\b\b\b\b\b\b\b\b\b\b\b\b\b\b\b\b\b\b\b\b\b\b\b\b\b\b\b\b\b\b\b\b\b\b\b\n",
      "Epoch 2/200\n",
      "55/55 [==============================] - 0s - loss: 20815861.7091 - acc: 0.0000e+00 - val_loss: 13131412.1429 - val_acc: 0.0000e+00\b\b\b\b\b\b\b\b\b\b\b\b\b\b\b\b\b\b\b\b\b\b\b\b\b\b\b\b\b\b\b\b\b\b\b\b\b\b\b\b\b\b\b\b\b\n",
      "Epoch 3/200\n",
      "55/55 [==============================] - 0s - loss: 16744781.8909 - acc: 0.0000e+00 - val_loss: 10144096.7143 - val_acc: 0.0000e+00\b\b\b\b\b\b\b\b\b\b\b\b\b\b\b\b\b\b\b\b\b\b\b\b\b\b\b\b\b\b\b\b\b\b\b\b\b\b\b\b\b\b\b\b\b\n",
      "Epoch 4/200\n",
      "55/55 [==============================] - 0s - loss: 12400482.2545 - acc: 0.0000e+00 - val_loss: 6898137.5714 - val_acc: 0.0000e+00\b\b\b\b\b\b\b\b\b\b\b\b\b\b\b\b\b\b\b\b\b\b\b\b\b\b\b\b\b\b\b\b\b\b\b\b\b\b\b\b\b\b\b\b\b\b\n",
      "Epoch 5/200\n",
      "55/55 [==============================] - 0s - loss: 7870725.7545 - acc: 0.0000e+00 - val_loss: 3842041.6429 - val_acc: 0.0000e+00\b\b\b\b\b\b\b\b\b\b\b\b\b\b\b\b\b\b\b\b\b\b\b\b\b\b\b\b\b\b\b\b\b\b\b\b\b\b\b\b\b\b\b\b\b\n",
      "Epoch 6/200\n",
      "55/55 [==============================] - 0s - loss: 3973292.8341 - acc: 0.0000e+00 - val_loss: 1649316.6696 - val_acc: 0.0000e+00\b\b\b\b\b\b\b\b\b\b\b\b\b\b\b\b\b\b\b\b\b\b\b\b\b\b\b\b\b\b\b\b\b\b\b\b\b\b\b\b\b\b\b\b\b\n",
      "Epoch 7/200\n",
      "55/55 [==============================] - 0s - loss: 1561959.9172 - acc: 0.0000e+00 - val_loss: 585058.0134 - val_acc: 0.0000e+00\b\b\b\b\b\b\b\b\b\b\b\b\b\b\b\b\b\b\b\b\b\b\b\b\b\b\b\b\b\b\b\b\b\b\b\b\b\b\b\b\b\b\b\b\n",
      "Epoch 8/200\n",
      "55/55 [==============================] - 0s - loss: 582509.7552 - acc: 0.0000e+00 - val_loss: 314559.2634 - val_acc: 0.0000e+00\b\b\b\b\b\b\b\b\b\b\b\b\b\b\b\b\b\b\b\b\b\b\b\b\b\b\b\b\b\b\b\b\b\b\b\b\b\b\b\b\b\b\b\b\b\b\b\n",
      "Epoch 9/200\n",
      "55/55 [==============================] - 0s - loss: 382773.6615 - acc: 0.0000e+00 - val_loss: 295954.8013 - val_acc: 0.0000e+00\b\b\b\b\b\b\b\b\b\b\b\b\b\b\b\b\b\b\b\b\b\b\b\b\b\b\b\b\b\b\b\b\b\b\b\b\b\b\b\b\b\b\b\n",
      "Epoch 10/200\n",
      "55/55 [==============================] - 0s - loss: 369212.1231 - acc: 0.0000e+00 - val_loss: 301495.7416 - val_acc: 0.0000e+00\b\b\b\b\b\b\b\b\b\b\b\b\b\b\b\b\b\b\b\b\b\b\b\b\b\b\b\b\b\b\b\b\b\b\b\b\b\b\b\b\b\b\b\b\b\n",
      "Epoch 11/200\n",
      "55/55 [==============================] - 0s - loss: 356328.4606 - acc: 0.0000e+00 - val_loss: 295539.2835 - val_acc: 0.0000e+00\b\b\b\b\b\b\b\b\b\b\b\b\b\b\b\b\b\b\b\b\b\b\b\b\b\b\b\b\b\b\b\b\b\b\b\b\b\b\b\b\b\b\b\n",
      "Epoch 12/200\n",
      "55/55 [==============================] - 0s - loss: 359174.5734 - acc: 0.0000e+00 - val_loss: 293338.6741 - val_acc: 0.0000e+00\b\b\b\b\b\b\b\b\b\b\b\b\b\b\b\b\b\b\b\b\b\b\b\b\b\b\b\b\b\b\b\b\b\b\b\b\b\b\b\b\b\b\b\n",
      "Epoch 13/200\n",
      "55/55 [==============================] - 0s - loss: 356516.4116 - acc: 0.0000e+00 - val_loss: 298674.3058 - val_acc: 0.0000e+00\b\b\b\b\b\b\b\b\b\b\b\b\b\b\b\b\b\b\b\b\b\b\b\b\b\b\b\b\b\b\b\b\b\b\b\b\b\b\b\b\b\b\b\b\b\n",
      "Epoch 14/200\n",
      "55/55 [==============================] - 0s - loss: 356145.2251 - acc: 0.0000e+00 - val_loss: 296608.0067 - val_acc: 0.0000e+00\b\b\b\b\b\b\b\b\b\b\b\b\b\b\b\b\b\b\b\b\b\b\b\b\b\b\b\b\b\b\b\b\b\b\b\b\b\b\b\b\b\b\b\b\b\n",
      "Epoch 15/200\n",
      "55/55 [==============================] - 0s - loss: 352312.1284 - acc: 0.0000e+00 - val_loss: 292964.4191 - val_acc: 0.0000e+00\b\b\b\b\b\b\b\b\b\b\b\b\b\b\b\b\b\b\b\b\b\b\b\b\b\b\b\b\b\b\b\b\b\b\b\b\b\b\b\b\b\b\b\b\b\n",
      "Epoch 16/200\n",
      "55/55 [==============================] - 0s - loss: 348314.2804 - acc: 0.0000e+00 - val_loss: 293266.5647 - val_acc: 0.0000e+00\b\b\b\b\b\b\b\b\b\b\b\b\b\b\b\b\b\b\b\b\b\b\b\b\b\b\b\b\b\b\b\b\b\b\b\b\b\b\b\b\b\b\b\n",
      "Epoch 17/200\n",
      "55/55 [==============================] - 0s - loss: 347683.2751 - acc: 0.0000e+00 - val_loss: 294767.9749 - val_acc: 0.0000e+00\b\b\b\b\b\b\b\b\b\b\b\b\b\b\b\b\b\b\b\b\b\b\b\b\b\b\b\b\b\b\b\b\b\b\b\b\b\b\b\b\b\b\b\b\b\n",
      "Epoch 18/200\n",
      "55/55 [==============================] - 0s - loss: 347543.3963 - acc: 0.0000e+00 - val_loss: 291039.8259 - val_acc: 0.0000e+00\b\b\b\b\b\b\b\b\b\b\b\b\b\b\b\b\b\b\b\b\b\b\b\b\b\b\b\b\b\b\b\b\b\b\b\b\b\b\b\b\b\b\b\b\b\n",
      "Epoch 19/200\n",
      "55/55 [==============================] - 0s - loss: 345807.4645 - acc: 0.0000e+00 - val_loss: 293395.2081 - val_acc: 0.0000e+00\b\b\b\b\b\b\b\b\b\b\b\b\b\b\b\b\b\b\b\b\b\b\b\b\b\b\b\b\b\b\b\b\b\b\b\b\b\b\b\b\b\b\b\b\b\n",
      "Epoch 20/200\n",
      "55/55 [==============================] - 0s - loss: 339076.8767 - acc: 0.0000e+00 - val_loss: 286184.7087 - val_acc: 0.0000e+00\b\b\b\b\b\b\b\b\b\b\b\b\b\b\b\b\b\b\b\b\b\b\b\b\b\b\b\b\b\b\b\b\b\b\b\b\b\b\b\b\b\b\b\b\b\n",
      "Epoch 21/200\n",
      "55/55 [==============================] - 0s - loss: 341756.9269 - acc: 0.0000e+00 - val_loss: 287022.9442 - val_acc: 0.0000e+00\b\b\b\b\b\b\b\b\b\b\b\b\b\b\b\b\b\b\b\b\b\b\b\b\b\b\b\b\b\b\b\b\b\b\b\b\b\b\b\b\b\b\b\b\b\n",
      "Epoch 22/200\n",
      "55/55 [==============================] - 0s - loss: 346117.5238 - acc: 0.0000e+00 - val_loss: 288526.3945 - val_acc: 0.0000e+00\b\b\b\b\b\b\b\b\b\b\b\b\b\b\b\b\b\b\b\b\b\b\b\b\b\b\b\b\b\b\b\b\b\b\b\b\b\b\b\b\b\b\b\b\b\n",
      "Epoch 23/200\n",
      "55/55 [==============================] - 0s - loss: 340013.0703 - acc: 0.0000e+00 - val_loss: 282635.5513 - val_acc: 0.0000e+00\b\b\b\b\b\b\b\b\b\b\b\b\b\b\b\b\b\b\b\b\b\b\b\b\b\b\b\b\b\b\b\b\b\b\b\b\b\b\b\b\b\b\b\b\b\n",
      "Epoch 24/200\n",
      "55/55 [==============================] - 0s - loss: 333991.9282 - acc: 0.0000e+00 - val_loss: 287710.7857 - val_acc: 0.0000e+00\b\b\b\b\b\b\b\b\b\b\b\b\b\b\b\b\b\b\b\b\b\b\b\b\b\b\b\b\b\b\b\b\b\b\b\b\b\b\b\b\b\b\b\b\b\n",
      "Epoch 25/200\n",
      "55/55 [==============================] - ETA: 0s - loss: 795699.1875 - acc: 0.0000e+00\b\b\b\b\b\b\b\b\b\b\b\b\b\b\b\b\b\b\b\b\b\b\b\b\b\b\b\b\b\b\b\b\b\b\b\b\b\b\b\b\b\b\b\b\b\b\b\b\b\b\b\b\b\b\b\b\b\b\b\b\b\b\b\b\b\b\b\b\b\b\b\b\b\b\b\b\b\b\b\b\b\b\b\b\b\b - 0s - loss: 334374.6789 - acc: 0.0000e+00 - val_loss: 282654.0854 - val_acc: 0.0000e+00\n",
      "Epoch 26/200\n",
      "55/55 [==============================] - 0s - loss: 336084.9701 - acc: 0.0000e+00 - val_loss: 281730.5491 - val_acc: 0.0000e+00\b\b\b\b\b\b\b\b\b\b\b\b\b\b\b\b\b\b\b\b\b\b\b\b\b\b\b\b\b\b\b\b\b\b\b\b\b\b\b\b\b\b\b\b\b\n",
      "Epoch 27/200\n",
      "55/55 [==============================] - 0s - loss: 340806.3813 - acc: 0.0000e+00 - val_loss: 279796.4263 - val_acc: 0.0000e+00\b\b\b\b\b\b\b\b\b\b\b\b\b\b\b\b\b\b\b\b\b\b\b\b\b\b\b\b\b\b\b\b\b\b\b\b\b\b\b\b\b\b\b\b\b\b\b\n",
      "Epoch 28/200\n",
      "55/55 [==============================] - 0s - loss: 332210.0765 - acc: 0.0000e+00 - val_loss: 278453.8884 - val_acc: 0.0000e+00\b\b\b\b\b\b\b\b\b\b\b\b\b\b\b\b\b\b\b\b\b\b\b\b\b\b\b\b\b\b\b\b\b\b\b\b\b\b\b\b\b\b\b\b\b\n",
      "Epoch 29/200\n",
      "55/55 [==============================] - 0s - loss: 326288.4611 - acc: 0.0000e+00 - val_loss: 283278.0307 - val_acc: 0.0000e+00\b\b\b\b\b\b\b\b\b\b\b\b\b\b\b\b\b\b\b\b\b\b\b\b\b\b\b\b\b\b\b\b\b\b\b\b\b\b\b\b\b\b\b\b\b\n",
      "Epoch 30/200\n",
      "55/55 [==============================] - 0s - loss: 325886.7342 - acc: 0.0000e+00 - val_loss: 278907.7595 - val_acc: 0.0000e+00\b\b\b\b\b\b\b\b\b\b\b\b\b\b\b\b\b\b\b\b\b\b\b\b\b\b\b\b\b\b\b\b\b\b\b\b\b\b\b\b\b\b\b\b\b\n",
      "Epoch 31/200\n",
      "55/55 [==============================] - 0s - loss: 322038.4250 - acc: 0.0000e+00 - val_loss: 278238.2991 - val_acc: 0.0000e+00\b\b\b\b\b\b\b\b\b\b\b\b\b\b\b\b\b\b\b\b\b\b\b\b\b\b\b\b\b\b\b\b\b\b\b\b\b\b\b\b\b\b\b\b\b\n",
      "Epoch 32/200\n",
      "55/55 [==============================] - 0s - loss: 326798.1202 - acc: 0.0000e+00 - val_loss: 277048.7812 - val_acc: 0.0000e+00\b\b\b\b\b\b\b\b\b\b\b\b\b\b\b\b\b\b\b\b\b\b\b\b\b\b\b\b\b\b\b\b\b\b\b\b\b\b\b\b\b\b\b\b\b\n",
      "Epoch 33/200\n",
      "55/55 [==============================] - 0s - loss: 324301.1248 - acc: 0.0000e+00 - val_loss: 274842.3337 - val_acc: 0.0000e+00\b\b\b\b\b\b\b\b\b\b\b\b\b\b\b\b\b\b\b\b\b\b\b\b\b\b\b\b\b\b\b\b\b\b\b\b\b\b\b\b\b\b\b\b\b\n",
      "Epoch 34/200\n",
      "55/55 [==============================] - 0s - loss: 319412.8017 - acc: 0.0000e+00 - val_loss: 272766.1786 - val_acc: 0.0000e+00\b\b\b\b\b\b\b\b\b\b\b\b\b\b\b\b\b\b\b\b\b\b\b\b\b\b\b\b\b\b\b\b\b\b\b\b\b\b\b\b\b\b\b\b\b\n",
      "Epoch 35/200\n",
      "55/55 [==============================] - 0s - loss: 316816.1652 - acc: 0.0000e+00 - val_loss: 277433.4286 - val_acc: 0.0000e+00\b\b\b\b\b\b\b\b\b\b\b\b\b\b\b\b\b\b\b\b\b\b\b\b\b\b\b\b\b\b\b\b\b\b\b\b\b\b\b\b\b\b\b\b\b\n",
      "Epoch 36/200\n",
      "55/55 [==============================] - 0s - loss: 319216.4734 - acc: 0.0000e+00 - val_loss: 272110.1708 - val_acc: 0.0000e+00\b\b\b\b\b\b\b\b\b\b\b\b\b\b\b\b\b\b\b\b\b\b\b\b\b\b\b\b\b\b\b\b\b\b\b\b\b\b\b\b\b\b\b\n",
      "Epoch 37/200\n",
      "55/55 [==============================] - 0s - loss: 318624.3610 - acc: 0.0000e+00 - val_loss: 273509.3906 - val_acc: 0.0000e+00\b\b\b\b\b\b\b\b\b\b\b\b\b\b\b\b\b\b\b\b\b\b\b\b\b\b\b\b\b\b\b\b\b\b\b\b\b\b\b\b\b\b\b\b\b\n",
      "Epoch 38/200\n",
      "55/55 [==============================] - 0s - loss: 323038.2192 - acc: 0.0000e+00 - val_loss: 274588.3421 - val_acc: 0.0000e+00\b\b\b\b\b\b\b\b\b\b\b\b\b\b\b\b\b\b\b\b\b\b\b\b\b\b\b\b\b\b\b\b\b\b\b\b\b\b\b\b\b\b\b\b\b\n",
      "Epoch 39/200\n",
      "55/55 [==============================] - 0s - loss: 311266.0655 - acc: 0.0000e+00 - val_loss: 272556.7528 - val_acc: 0.0000e+00\b\b\b\b\b\b\b\b\b\b\b\b\b\b\b\b\b\b\b\b\b\b\b\b\b\b\b\b\b\b\b\b\b\b\b\b\b\b\b\b\b\b\b\b\b\n",
      "Epoch 40/200\n",
      "55/55 [==============================] - 0s - loss: 312841.7286 - acc: 0.0000e+00 - val_loss: 268368.2606 - val_acc: 0.0000e+00\b\b\b\b\b\b\b\b\b\b\b\b\b\b\b\b\b\b\b\b\b\b\b\b\b\b\b\b\b\b\b\b\b\b\b\b\b\b\b\b\b\b\b\b\b\n",
      "Epoch 41/200\n",
      "55/55 [==============================] - 0s - loss: 309208.6789 - acc: 0.0000e+00 - val_loss: 272212.7254 - val_acc: 0.0000e+00\b\b\b\b\b\b\b\b\b\b\b\b\b\b\b\b\b\b\b\b\b\b\b\b\b\b\b\b\b\b\b\b\b\b\b\b\b\b\b\b\b\b\b\b\b\n",
      "Epoch 42/200\n",
      "55/55 [==============================] - 0s - loss: 304846.7891 - acc: 0.0000e+00 - val_loss: 267274.0301 - val_acc: 0.0000e+00\b\b\b\b\b\b\b\b\b\b\b\b\b\b\b\b\b\b\b\b\b\b\b\b\b\b\b\b\b\b\b\b\b\b\b\b\b\b\b\b\b\b\b\b\b\n",
      "Epoch 43/200\n",
      "55/55 [==============================] - 0s - loss: 306570.6413 - acc: 0.0000e+00 - val_loss: 264910.6562 - val_acc: 0.0000e+00\b\b\b\b\b\b\b\b\b\b\b\b\b\b\b\b\b\b\b\b\b\b\b\b\b\b\b\b\b\b\b\b\b\b\b\b\b\b\b\b\b\b\b\b\b\n",
      "Epoch 44/200\n",
      "55/55 [==============================] - 0s - loss: 301391.8708 - acc: 0.0000e+00 - val_loss: 266256.2422 - val_acc: 0.0000e+00\b\b\b\b\b\b\b\b\b\b\b\b\b\b\b\b\b\b\b\b\b\b\b\b\b\b\b\b\b\b\b\b\b\b\b\b\b\b\b\b\b\b\b\b\b\n",
      "Epoch 45/200\n",
      "55/55 [==============================] - 0s - loss: 300023.3389 - acc: 0.0000e+00 - val_loss: 264520.1278 - val_acc: 0.0000e+00\b\b\b\b\b\b\b\b\b\b\b\b\b\b\b\b\b\b\b\b\b\b\b\b\b\b\b\b\b\b\b\b\b\b\b\b\b\b\b\b\b\b\b\n",
      "Epoch 46/200\n",
      "55/55 [==============================] - 0s - loss: 297489.2443 - acc: 0.0000e+00 - val_loss: 260375.8823 - val_acc: 0.0000e+00\b\b\b\b\b\b\b\b\b\b\b\b\b\b\b\b\b\b\b\b\b\b\b\b\b\b\b\b\b\b\b\b\b\b\b\b\b\b\b\b\b\b\b\b\b\n",
      "Epoch 47/200\n",
      "55/55 [==============================] - 0s - loss: 295607.6423 - acc: 0.0000e+00 - val_loss: 263254.5865 - val_acc: 0.0000e+00\b\b\b\b\b\b\b\b\b\b\b\b\b\b\b\b\b\b\b\b\b\b\b\b\b\b\b\b\b\b\b\b\b\b\b\b\b\b\b\b\b\b\b\b\b\n",
      "Epoch 48/200\n",
      "55/55 [==============================] - 0s - loss: 298111.7092 - acc: 0.0000e+00 - val_loss: 262309.9448 - val_acc: 0.0000e+00\b\b\b\b\b\b\b\b\b\b\b\b\b\b\b\b\b\b\b\b\b\b\b\b\b\b\b\b\b\b\b\b\b\b\b\b\b\b\b\b\b\b\b\b\b\n",
      "Epoch 49/200\n",
      "55/55 [==============================] - 0s - loss: 293234.0089 - acc: 0.0000e+00 - val_loss: 259210.3990 - val_acc: 0.0000e+00\b\b\b\b\b\b\b\b\b\b\b\b\b\b\b\b\b\b\b\b\b\b\b\b\b\b\b\b\b\b\b\b\b\b\b\b\b\b\b\b\b\b\b\n",
      "Epoch 50/200\n",
      "55/55 [==============================] - 0s - loss: 298243.2008 - acc: 0.0000e+00 - val_loss: 259785.5781 - val_acc: 0.0000e+00\b\b\b\b\b\b\b\b\b\b\b\b\b\b\b\b\b\b\b\b\b\b\b\b\b\b\b\b\b\b\b\b\b\b\b\b\b\b\b\b\b\b\b\b\b\n",
      "Epoch 51/200\n",
      "55/55 [==============================] - 0s - loss: 291317.8530 - acc: 0.0000e+00 - val_loss: 256288.3259 - val_acc: 0.0000e+00\b\b\b\b\b\b\b\b\b\b\b\b\b\b\b\b\b\b\b\b\b\b\b\b\b\b\b\b\b\b\b\b\b\b\b\b\b\b\b\b\b\b\b\b\b\n",
      "Epoch 52/200\n",
      "55/55 [==============================] - 0s - loss: 286249.9973 - acc: 0.0000e+00 - val_loss: 260590.9576 - val_acc: 0.0000e+00\b\b\b\b\b\b\b\b\b\b\b\b\b\b\b\b\b\b\b\b\b\b\b\b\b\b\b\b\b\b\b\b\b\b\b\b\b\b\b\b\b\b\b\n",
      "Epoch 53/200\n",
      "55/55 [==============================] - 0s - loss: 286030.0548 - acc: 0.0000e+00 - val_loss: 257303.4565 - val_acc: 0.0000e+00\b\b\b\b\b\b\b\b\b\b\b\b\b\b\b\b\b\b\b\b\b\b\b\b\b\b\b\b\b\b\b\b\b\b\b\b\b\b\b\b\b\b\b\n",
      "Epoch 54/200\n",
      "55/55 [==============================] - 0s - loss: 282534.5634 - acc: 0.0000e+00 - val_loss: 253724.5140 - val_acc: 0.0000e+00\b\b\b\b\b\b\b\b\b\b\b\b\b\b\b\b\b\b\b\b\b\b\b\b\b\b\b\b\b\b\b\b\b\b\b\b\b\b\b\b\b\b\b\b\b\n",
      "Epoch 55/200\n",
      "55/55 [==============================] - 0s - loss: 284395.0567 - acc: 0.0000e+00 - val_loss: 252337.1897 - val_acc: 0.0000e+00\b\b\b\b\b\b\b\b\b\b\b\b\b\b\b\b\b\b\b\b\b\b\b\b\b\b\b\b\b\b\b\b\b\b\b\b\b\b\b\b\b\b\b\n",
      "Epoch 56/200\n",
      "55/55 [==============================] - 0s - loss: 286983.8303 - acc: 0.0000e+00 - val_loss: 264739.2185 - val_acc: 0.0000e+00\b\b\b\b\b\b\b\b\b\b\b\b\b\b\b\b\b\b\b\b\b\b\b\b\b\b\b\b\b\b\b\b\b\b\b\b\b\b\b\b\b\b\b\b\b\n",
      "Epoch 57/200\n",
      "55/55 [==============================] - 0s - loss: 279846.2227 - acc: 0.0000e+00 - val_loss: 250011.2812 - val_acc: 0.0000e+00\b\b\b\b\b\b\b\b\b\b\b\b\b\b\b\b\b\b\b\b\b\b\b\b\b\b\b\b\b\b\b\b\b\b\b\b\b\b\b\b\b\b\b\b\b\n",
      "Epoch 58/200\n",
      "55/55 [==============================] - 0s - loss: 278822.1615 - acc: 0.0000e+00 - val_loss: 251203.3421 - val_acc: 0.1429\b\b\b\b\b\b\b\b\b\b\b\b\b\b\b\b\b\b\b\b\b\b\b\b\b\b\b\b\b\b\b\b\b\b\b\b\b\b\b\b\b\b\b\b\b\b\b\b\b\n",
      "Epoch 59/200\n",
      "55/55 [==============================] - 0s - loss: 279458.3964 - acc: 0.0000e+00 - val_loss: 249173.6780 - val_acc: 0.0000e+00\b\b\b\b\b\b\b\b\b\b\b\b\b\b\b\b\b\b\b\b\b\b\b\b\b\b\b\b\b\b\b\b\b\b\b\b\b\b\b\b\b\b\b\b\b\n",
      "Epoch 60/200\n",
      "55/55 [==============================] - 0s - loss: 277575.5564 - acc: 0.0000e+00 - val_loss: 254650.5929 - val_acc: 0.0000e+00\b\b\b\b\b\b\b\b\b\b\b\b\b\b\b\b\b\b\b\b\b\b\b\b\b\b\b\b\b\b\b\b\b\b\b\b\b\b\b\b\b\b\b\b\b\n",
      "Epoch 61/200\n",
      "55/55 [==============================] - 0s - loss: 274973.1689 - acc: 0.0000e+00 - val_loss: 248191.1010 - val_acc: 0.0000e+00\b\b\b\b\b\b\b\b\b\b\b\b\b\b\b\b\b\b\b\b\b\b\b\b\b\b\b\b\b\b\b\b\b\b\b\b\b\b\b\b\b\b\b\b\b\n",
      "Epoch 62/200\n",
      "55/55 [==============================] - 0s - loss: 274558.5459 - acc: 0.0000e+00 - val_loss: 251550.0075 - val_acc: 0.0000e+00\b\b\b\b\b\b\b\b\b\b\b\b\b\b\b\b\b\b\b\b\b\b\b\b\b\b\b\b\b\b\b\b\b\b\b\b\b\b\b\b\b\b\b\b\b\n",
      "Epoch 63/200\n",
      "55/55 [==============================] - 0s - loss: 270427.8851 - acc: 0.0000e+00 - val_loss: 246350.1886 - val_acc: 0.0000e+00\b\b\b\b\b\b\b\b\b\b\b\b\b\b\b\b\b\b\b\b\b\b\b\b\b\b\b\b\b\b\b\b\b\b\b\b\b\b\b\b\b\b\b\b\b\n",
      "Epoch 64/200\n",
      "55/55 [==============================] - 0s - loss: 270941.1443 - acc: 0.0000e+00 - val_loss: 245663.0558 - val_acc: 0.0000e+00\b\b\b\b\b\b\b\b\b\b\b\b\b\b\b\b\b\b\b\b\b\b\b\b\b\b\b\b\b\b\b\b\b\b\b\b\b\b\b\b\b\b\b\b\b\n",
      "Epoch 65/200\n",
      "55/55 [==============================] - 0s - loss: 268306.8885 - acc: 0.0000e+00 - val_loss: 248264.4777 - val_acc: 0.0000e+00\b\b\b\b\b\b\b\b\b\b\b\b\b\b\b\b\b\b\b\b\b\b\b\b\b\b\b\b\b\b\b\b\b\b\b\b\b\b\b\b\b\b\b\n",
      "Epoch 66/200\n",
      "55/55 [==============================] - 0s - loss: 269647.0263 - acc: 0.0000e+00 - val_loss: 246345.3705 - val_acc: 0.0000e+00\b\b\b\b\b\b\b\b\b\b\b\b\b\b\b\b\b\b\b\b\b\b\b\b\b\b\b\b\b\b\b\b\b\b\b\b\b\b\b\b\b\b\b\b\b\n",
      "Epoch 67/200\n",
      "55/55 [==============================] - 0s - loss: 266598.9724 - acc: 0.0000e+00 - val_loss: 244632.9442 - val_acc: 0.0000e+00\b\b\b\b\b\b\b\b\b\b\b\b\b\b\b\b\b\b\b\b\b\b\b\b\b\b\b\b\b\b\b\b\b\b\b\b\b\b\b\b\b\b\b\b\b\n",
      "Epoch 68/200\n",
      "55/55 [==============================] - 0s - loss: 264764.5418 - acc: 0.0000e+00 - val_loss: 242622.7891 - val_acc: 0.0000e+00\b\b\b\b\b\b\b\b\b\b\b\b\b\b\b\b\b\b\b\b\b\b\b\b\b\b\b\b\b\b\b\b\b\b\b\b\b\b\b\b\b\b\b\n",
      "Epoch 69/200\n",
      "55/55 [==============================] - 0s - loss: 266902.1557 - acc: 0.0000e+00 - val_loss: 243327.4632 - val_acc: 0.0000e+00\b\b\b\b\b\b\b\b\b\b\b\b\b\b\b\b\b\b\b\b\b\b\b\b\b\b\b\b\b\b\b\b\b\b\b\b\b\b\b\b\b\b\b\b\b\n",
      "Epoch 70/200\n",
      "55/55 [==============================] - 0s - loss: 262540.9403 - acc: 0.0000e+00 - val_loss: 243032.1317 - val_acc: 0.1429\b\b\b\b\b\b\b\b\b\b\b\b\b\b\b\b\b\b\b\b\b\b\b\b\b\b\b\b\b\b\b\b\b\b\b\b\b\b\b\b\b\b\b\b\b\b\b\b\b\n",
      "Epoch 71/200\n",
      "55/55 [==============================] - 0s - loss: 261754.2089 - acc: 0.0000e+00 - val_loss: 243302.4916 - val_acc: 0.0000e+00\b\b\b\b\b\b\b\b\b\b\b\b\b\b\b\b\b\b\b\b\b\b\b\b\b\b\b\b\b\b\b\b\b\b\b\b\b\b\b\b\b\b\b\b\b\n",
      "Epoch 72/200\n",
      "55/55 [==============================] - 0s - loss: 262833.0464 - acc: 0.0000e+00 - val_loss: 240841.0625 - val_acc: 0.0000e+00\b\b\b\b\b\b\b\b\b\b\b\b\b\b\b\b\b\b\b\b\b\b\b\b\b\b\b\b\b\b\b\b\b\b\b\b\b\b\b\b\b\b\b\b\b\n",
      "Epoch 73/200\n",
      "55/55 [==============================] - 0s - loss: 259865.0980 - acc: 0.0000e+00 - val_loss: 240451.0430 - val_acc: 0.0000e+00\b\b\b\b\b\b\b\b\b\b\b\b\b\b\b\b\b\b\b\b\b\b\b\b\b\b\b\b\b\b\b\b\b\b\b\b\b\b\b\b\b\b\b\b\b\n",
      "Epoch 74/200\n",
      "55/55 [==============================] - 0s - loss: 262227.4834 - acc: 0.0000e+00 - val_loss: 239749.4169 - val_acc: 0.0000e+00\b\b\b\b\b\b\b\b\b\b\b\b\b\b\b\b\b\b\b\b\b\b\b\b\b\b\b\b\b\b\b\b\b\b\b\b\b\b\b\b\b\b\b\b\b\n",
      "Epoch 75/200\n",
      "55/55 [==============================] - 0s - loss: 257075.8621 - acc: 0.0000e+00 - val_loss: 236636.3504 - val_acc: 0.0000e+00\b\b\b\b\b\b\b\b\b\b\b\b\b\b\b\b\b\b\b\b\b\b\b\b\b\b\b\b\b\b\b\b\b\b\b\b\b\b\b\b\b\b\b\b\b\n",
      "Epoch 76/200\n",
      "55/55 [==============================] - 0s - loss: 261030.8210 - acc: 0.0000e+00 - val_loss: 237336.1401 - val_acc: 0.0000e+00\b\b\b\b\b\b\b\b\b\b\b\b\b\b\b\b\b\b\b\b\b\b\b\b\b\b\b\b\b\b\b\b\b\b\b\b\b\b\b\b\b\b\b\b\b\n",
      "Epoch 77/200\n",
      "55/55 [==============================] - 0s - loss: 256824.3157 - acc: 0.0000e+00 - val_loss: 237781.1663 - val_acc: 0.0000e+00\b\b\b\b\b\b\b\b\b\b\b\b\b\b\b\b\b\b\b\b\b\b\b\b\b\b\b\b\b\b\b\b\b\b\b\b\b\b\b\b\b\b\b\b\b\n",
      "Epoch 78/200\n",
      "55/55 [==============================] - 0s - loss: 253421.9015 - acc: 0.0000e+00 - val_loss: 236680.3901 - val_acc: 0.0000e+00\b\b\b\b\b\b\b\b\b\b\b\b\b\b\b\b\b\b\b\b\b\b\b\b\b\b\b\b\b\b\b\b\b\b\b\b\b\b\b\b\b\b\b\b\b\n",
      "Epoch 79/200\n",
      "55/55 [==============================] - 0s - loss: 253002.4553 - acc: 0.0000e+00 - val_loss: 240932.5460 - val_acc: 0.0000e+00\b\b\b\b\b\b\b\b\b\b\b\b\b\b\b\b\b\b\b\b\b\b\b\b\b\b\b\b\b\b\b\b\b\b\b\b\b\b\b\b\b\b\b\b\b\n",
      "Epoch 80/200\n",
      "55/55 [==============================] - 0s - loss: 256181.6539 - acc: 0.0000e+00 - val_loss: 235161.0240 - val_acc: 0.0000e+00\b\b\b\b\b\b\b\b\b\b\b\b\b\b\b\b\b\b\b\b\b\b\b\b\b\b\b\b\b\b\b\b\b\b\b\b\b\b\b\b\b\b\b\b\b\n",
      "Epoch 81/200\n",
      "55/55 [==============================] - 0s - loss: 249488.1521 - acc: 0.0000e+00 - val_loss: 240462.2388 - val_acc: 0.0000e+00\b\b\b\b\b\b\b\b\b\b\b\b\b\b\b\b\b\b\b\b\b\b\b\b\b\b\b\b\b\b\b\b\b\b\b\b\b\b\b\b\b\b\b\b\b\n",
      "Epoch 82/200\n",
      "55/55 [==============================] - 0s - loss: 251120.0693 - acc: 0.0000e+00 - val_loss: 234580.8728 - val_acc: 0.0000e+00\b\b\b\b\b\b\b\b\b\b\b\b\b\b\b\b\b\b\b\b\b\b\b\b\b\b\b\b\b\b\b\b\b\b\b\b\b\b\b\b\b\b\b\b\b\n",
      "Epoch 83/200\n",
      "55/55 [==============================] - 0s - loss: 257915.0704 - acc: 0.0000e+00 - val_loss: 235708.7506 - val_acc: 0.0000e+00\b\b\b\b\b\b\b\b\b\b\b\b\b\b\b\b\b\b\b\b\b\b\b\b\b\b\b\b\b\b\b\b\b\b\b\b\b\b\b\b\b\b\b\b\b\n",
      "Epoch 84/200\n",
      "55/55 [==============================] - 0s - loss: 247763.5920 - acc: 0.0000e+00 - val_loss: 234989.5792 - val_acc: 0.0000e+00\b\b\b\b\b\b\b\b\b\b\b\b\b\b\b\b\b\b\b\b\b\b\b\b\b\b\b\b\b\b\b\b\b\b\b\b\b\b\b\b\b\b\b\b\b\n",
      "Epoch 85/200\n",
      "55/55 [==============================] - 0s - loss: 245372.8147 - acc: 0.0000e+00 - val_loss: 231659.3069 - val_acc: 0.0000e+00\b\b\b\b\b\b\b\b\b\b\b\b\b\b\b\b\b\b\b\b\b\b\b\b\b\b\b\b\b\b\b\b\b\b\b\b\b\b\b\b\b\b\b\n",
      "Epoch 86/200\n",
      "55/55 [==============================] - 0s - loss: 249663.1539 - acc: 0.0000e+00 - val_loss: 230555.8237 - val_acc: 0.0000e+00\b\b\b\b\b\b\b\b\b\b\b\b\b\b\b\b\b\b\b\b\b\b\b\b\b\b\b\b\b\b\b\b\b\b\b\b\b\b\b\b\b\b\b\b\b\n",
      "Epoch 87/200\n",
      "55/55 [==============================] - 0s - loss: 243443.3593 - acc: 0.0000e+00 - val_loss: 236804.1032 - val_acc: 0.0000e+00\b\b\b\b\b\b\b\b\b\b\b\b\b\b\b\b\b\b\b\b\b\b\b\b\b\b\b\b\b\b\b\b\b\b\b\b\b\b\b\b\b\b\b\n",
      "Epoch 88/200\n",
      "55/55 [==============================] - 0s - loss: 245711.4399 - acc: 0.0000e+00 - val_loss: 234842.1071 - val_acc: 0.0000e+00\b\b\b\b\b\b\b\b\b\b\b\b\b\b\b\b\b\b\b\b\b\b\b\b\b\b\b\b\b\b\b\b\b\b\b\b\b\b\b\b\b\b\b\b\b\n",
      "Epoch 89/200\n",
      "55/55 [==============================] - 0s - loss: 246282.9674 - acc: 0.0000e+00 - val_loss: 231561.2958 - val_acc: 0.0000e+00\b\b\b\b\b\b\b\b\b\b\b\b\b\b\b\b\b\b\b\b\b\b\b\b\b\b\b\b\b\b\b\b\b\b\b\b\b\b\b\b\b\b\b\b\b\n",
      "Epoch 90/200\n",
      "55/55 [==============================] - 0s - loss: 248526.8724 - acc: 0.0000e+00 - val_loss: 230038.1920 - val_acc: 0.0000e+00\b\b\b\b\b\b\b\b\b\b\b\b\b\b\b\b\b\b\b\b\b\b\b\b\b\b\b\b\b\b\b\b\b\b\b\b\b\b\b\b\b\b\b\b\b\n",
      "Epoch 91/200\n",
      "55/55 [==============================] - 0s - loss: 245209.9132 - acc: 0.0000e+00 - val_loss: 227651.5670 - val_acc: 0.0000e+00\b\b\b\b\b\b\b\b\b\b\b\b\b\b\b\b\b\b\b\b\b\b\b\b\b\b\b\b\b\b\b\b\b\b\b\b\b\b\b\b\b\b\b\b\b\n",
      "Epoch 92/200\n",
      "55/55 [==============================] - 0s - loss: 237261.1218 - acc: 0.0000e+00 - val_loss: 232154.6724 - val_acc: 0.0000e+00\b\b\b\b\b\b\b\b\b\b\b\b\b\b\b\b\b\b\b\b\b\b\b\b\b\b\b\b\b\b\b\b\b\b\b\b\b\b\b\b\b\b\b\b\b\n",
      "Epoch 93/200\n",
      "55/55 [==============================] - 0s - loss: 242088.3253 - acc: 0.0000e+00 - val_loss: 233065.9280 - val_acc: 0.0000e+00\b\b\b\b\b\b\b\b\b\b\b\b\b\b\b\b\b\b\b\b\b\b\b\b\b\b\b\b\b\b\b\b\b\b\b\b\b\b\b\b\b\b\b\b\b\n",
      "Epoch 94/200\n",
      "55/55 [==============================] - 0s - loss: 244766.1105 - acc: 0.0000e+00 - val_loss: 228562.8382 - val_acc: 0.0000e+00\b\b\b\b\b\b\b\b\b\b\b\b\b\b\b\b\b\b\b\b\b\b\b\b\b\b\b\b\b\b\b\b\b\b\b\b\b\b\b\b\b\b\b\b\b\n",
      "Epoch 95/200\n",
      "55/55 [==============================] - 0s - loss: 248496.7168 - acc: 0.0000e+00 - val_loss: 236468.8697 - val_acc: 0.0000e+00\b\b\b\b\b\b\b\b\b\b\b\b\b\b\b\b\b\b\b\b\b\b\b\b\b\b\b\b\b\b\b\b\b\b\b\b\b\b\b\b\b\b\b\n",
      "Epoch 96/200\n",
      "55/55 [==============================] - 0s - loss: 240097.7252 - acc: 0.0000e+00 - val_loss: 226214.3186 - val_acc: 0.0000e+00\b\b\b\b\b\b\b\b\b\b\b\b\b\b\b\b\b\b\b\b\b\b\b\b\b\b\b\b\b\b\b\b\b\b\b\b\b\b\b\b\b\b\b\b\b\n",
      "Epoch 97/200\n",
      "55/55 [==============================] - 0s - loss: 237241.3985 - acc: 0.0000e+00 - val_loss: 226737.2333 - val_acc: 0.0000e+00\b\b\b\b\b\b\b\b\b\b\b\b\b\b\b\b\b\b\b\b\b\b\b\b\b\b\b\b\b\b\b\b\b\b\b\b\b\b\b\b\b\b\b\b\b\n",
      "Epoch 98/200\n",
      "55/55 [==============================] - 0s - loss: 236201.8447 - acc: 0.0000e+00 - val_loss: 226790.8036 - val_acc: 0.0000e+00\b\b\b\b\b\b\b\b\b\b\b\b\b\b\b\b\b\b\b\b\b\b\b\b\b\b\b\b\b\b\b\b\b\b\b\b\b\b\b\b\b\b\b\n",
      "Epoch 99/200\n",
      "55/55 [==============================] - 0s - loss: 237473.4470 - acc: 0.0000e+00 - val_loss: 229318.2288 - val_acc: 0.0000e+00\b\b\b\b\b\b\b\b\b\b\b\b\b\b\b\b\b\b\b\b\b\b\b\b\b\b\b\b\b\b\b\b\b\b\b\b\b\b\b\b\b\b\b\b\b\n",
      "Epoch 100/200\n",
      "55/55 [==============================] - 0s - loss: 232310.2855 - acc: 0.0000e+00 - val_loss: 224751.7857 - val_acc: 0.0000e+00\b\b\b\b\b\b\b\b\b\b\b\b\b\b\b\b\b\b\b\b\b\b\b\b\b\b\b\b\b\b\b\b\b\b\b\b\b\b\b\b\b\b\b\n",
      "Epoch 101/200\n",
      "55/55 [==============================] - 0s - loss: 232858.3275 - acc: 0.0000e+00 - val_loss: 224702.8516 - val_acc: 0.0000e+00\b\b\b\b\b\b\b\b\b\b\b\b\b\b\b\b\b\b\b\b\b\b\b\b\b\b\b\b\b\b\b\b\b\b\b\b\b\b\b\b\b\b\b\n",
      "Epoch 102/200\n",
      "55/55 [==============================] - 0s - loss: 236714.5402 - acc: 0.0000e+00 - val_loss: 226025.4693 - val_acc: 0.0000e+00\b\b\b\b\b\b\b\b\b\b\b\b\b\b\b\b\b\b\b\b\b\b\b\b\b\b\b\b\b\b\b\b\b\b\b\b\b\b\b\b\b\b\b\b\b\n",
      "Epoch 103/200\n",
      "55/55 [==============================] - 0s - loss: 230769.7961 - acc: 0.0000e+00 - val_loss: 225391.5954 - val_acc: 0.0000e+00\b\b\b\b\b\b\b\b\b\b\b\b\b\b\b\b\b\b\b\b\b\b\b\b\b\b\b\b\b\b\b\b\b\b\b\b\b\b\b\b\b\b\b\n",
      "Epoch 104/200\n",
      "55/55 [==============================] - 0s - loss: 233219.5106 - acc: 0.0000e+00 - val_loss: 224802.0234 - val_acc: 0.0000e+00\b\b\b\b\b\b\b\b\b\b\b\b\b\b\b\b\b\b\b\b\b\b\b\b\b\b\b\b\b\b\b\b\b\b\b\b\b\b\b\b\b\b\b\b\b\n",
      "Epoch 105/200\n",
      "55/55 [==============================] - 0s - loss: 235434.6021 - acc: 0.0000e+00 - val_loss: 222906.9431 - val_acc: 0.0000e+00\b\b\b\b\b\b\b\b\b\b\b\b\b\b\b\b\b\b\b\b\b\b\b\b\b\b\b\b\b\b\b\b\b\b\b\b\b\b\b\b\b\b\b\b\b\n",
      "Epoch 106/200\n",
      "55/55 [==============================] - 0s - loss: 235879.9855 - acc: 0.0000e+00 - val_loss: 224124.7115 - val_acc: 0.0000e+00\b\b\b\b\b\b\b\b\b\b\b\b\b\b\b\b\b\b\b\b\b\b\b\b\b\b\b\b\b\b\b\b\b\b\b\b\b\b\b\b\b\b\b\b\b\n",
      "Epoch 107/200\n",
      "55/55 [==============================] - 0s - loss: 235568.1059 - acc: 0.0000e+00 - val_loss: 225743.4654 - val_acc: 0.1429\b\b\b\b\b\b\b\b\b\b\b\b\b\b\b\b\b\b\b\b\b\b\b\b\b\b\b\b\b\b\b\b\b\b\b\b\b\b\b\b\b\b\b\b\b\b\b\n",
      "Epoch 108/200\n",
      "55/55 [==============================] - 0s - loss: 235054.8558 - acc: 0.0000e+00 - val_loss: 222736.2054 - val_acc: 0.0000e+00\b\b\b\b\b\b\b\b\b\b\b\b\b\b\b\b\b\b\b\b\b\b\b\b\b\b\b\b\b\b\b\b\b\b\b\b\b\b\b\b\b\b\b\b\b\n",
      "Epoch 109/200\n",
      "55/55 [==============================] - 0s - loss: 230079.8817 - acc: 0.0000e+00 - val_loss: 221631.7729 - val_acc: 0.0000e+00\b\b\b\b\b\b\b\b\b\b\b\b\b\b\b\b\b\b\b\b\b\b\b\b\b\b\b\b\b\b\b\b\b\b\b\b\b\b\b\b\b\b\b\b\b\n",
      "Epoch 110/200\n",
      "55/55 [==============================] - 0s - loss: 225278.7009 - acc: 0.0000e+00 - val_loss: 221951.1752 - val_acc: 0.0000e+00\b\b\b\b\b\b\b\b\b\b\b\b\b\b\b\b\b\b\b\b\b\b\b\b\b\b\b\b\b\b\b\b\b\b\b\b\b\b\b\b\b\b\b\n",
      "Epoch 111/200\n",
      "55/55 [==============================] - 0s - loss: 229169.6312 - acc: 0.0000e+00 - val_loss: 224187.7757 - val_acc: 0.1429\b\b\b\b\b\b\b\b\b\b\b\b\b\b\b\b\b\b\b\b\b\b\b\b\b\b\b\b\b\b\b\b\b\b\b\b\b\b\b\b\b\b\b\b\b\b\b\b\b\n",
      "Epoch 112/200\n",
      "55/55 [==============================] - 0s - loss: 222966.2851 - acc: 0.0000e+00 - val_loss: 218776.6752 - val_acc: 0.0000e+00\b\b\b\b\b\b\b\b\b\b\b\b\b\b\b\b\b\b\b\b\b\b\b\b\b\b\b\b\b\b\b\b\b\b\b\b\b\b\b\b\b\b\b\b\b\n",
      "Epoch 113/200\n",
      "55/55 [==============================] - 0s - loss: 224929.6598 - acc: 0.0000e+00 - val_loss: 222500.1585 - val_acc: 0.0000e+00\b\b\b\b\b\b\b\b\b\b\b\b\b\b\b\b\b\b\b\b\b\b\b\b\b\b\b\b\b\b\b\b\b\b\b\b\b\b\b\b\b\b\b\n",
      "Epoch 114/200\n",
      "55/55 [==============================] - 0s - loss: 225244.3852 - acc: 0.0000e+00 - val_loss: 221772.6657 - val_acc: 0.0000e+00\b\b\b\b\b\b\b\b\b\b\b\b\b\b\b\b\b\b\b\b\b\b\b\b\b\b\b\b\b\b\b\b\b\b\b\b\b\b\b\b\b\b\b\b\b\n",
      "Epoch 115/200\n",
      "55/55 [==============================] - 0s - loss: 223826.7788 - acc: 0.0000e+00 - val_loss: 220281.1562 - val_acc: 0.0000e+00\b\b\b\b\b\b\b\b\b\b\b\b\b\b\b\b\b\b\b\b\b\b\b\b\b\b\b\b\b\b\b\b\b\b\b\b\b\b\b\b\b\b\b\b\b\n",
      "Epoch 116/200\n",
      "55/55 [==============================] - 0s - loss: 224280.1605 - acc: 0.0000e+00 - val_loss: 216796.8058 - val_acc: 0.0000e+00\b\b\b\b\b\b\b\b\b\b\b\b\b\b\b\b\b\b\b\b\b\b\b\b\b\b\b\b\b\b\b\b\b\b\b\b\b\b\b\b\b\b\b\b\b\n",
      "Epoch 117/200\n",
      "55/55 [==============================] - 0s - loss: 218752.5670 - acc: 0.0000e+00 - val_loss: 225686.0854 - val_acc: 0.0000e+00\b\b\b\b\b\b\b\b\b\b\b\b\b\b\b\b\b\b\b\b\b\b\b\b\b\b\b\b\b\b\b\b\b\b\b\b\b\b\b\b\b\b\b\n",
      "Epoch 118/200\n",
      "55/55 [==============================] - 0s - loss: 237455.9191 - acc: 0.0000e+00 - val_loss: 217633.3689 - val_acc: 0.0000e+00\b\b\b\b\b\b\b\b\b\b\b\b\b\b\b\b\b\b\b\b\b\b\b\b\b\b\b\b\b\b\b\b\b\b\b\b\b\b\b\b\b\b\b\b\b\n",
      "Epoch 119/200\n",
      "55/55 [==============================] - 0s - loss: 221838.9976 - acc: 0.0000e+00 - val_loss: 221389.5089 - val_acc: 0.0000e+00\b\b\b\b\b\b\b\b\b\b\b\b\b\b\b\b\b\b\b\b\b\b\b\b\b\b\b\b\b\b\b\b\b\b\b\b\b\b\b\b\b\b\b\n",
      "Epoch 120/200\n",
      "55/55 [==============================] - 0s - loss: 219976.1497 - acc: 0.0000e+00 - val_loss: 217697.7360 - val_acc: 0.0000e+00\b\b\b\b\b\b\b\b\b\b\b\b\b\b\b\b\b\b\b\b\b\b\b\b\b\b\b\b\b\b\b\b\b\b\b\b\b\b\b\b\b\b\b\n",
      "Epoch 121/200\n",
      "55/55 [==============================] - 0s - loss: 221983.3520 - acc: 0.0000e+00 - val_loss: 216703.7796 - val_acc: 0.0000e+00\b\b\b\b\b\b\b\b\b\b\b\b\b\b\b\b\b\b\b\b\b\b\b\b\b\b\b\b\b\b\b\b\b\b\b\b\b\b\b\b\b\b\b\b\b\n",
      "Epoch 122/200\n",
      "55/55 [==============================] - 0s - loss: 221161.2794 - acc: 0.0000e+00 - val_loss: 220951.4308 - val_acc: 0.0000e+00\b\b\b\b\b\b\b\b\b\b\b\b\b\b\b\b\b\b\b\b\b\b\b\b\b\b\b\b\b\b\b\b\b\b\b\b\b\b\b\b\b\b\b\b\b\n",
      "Epoch 123/200\n",
      "55/55 [==============================] - 0s - loss: 221579.7541 - acc: 0.0000e+00 - val_loss: 215169.1484 - val_acc: 0.0000e+00\b\b\b\b\b\b\b\b\b\b\b\b\b\b\b\b\b\b\b\b\b\b\b\b\b\b\b\b\b\b\b\b\b\b\b\b\b\b\b\b\b\b\b\b\b\n",
      "Epoch 124/200\n",
      "55/55 [==============================] - 0s - loss: 220672.1575 - acc: 0.0000e+00 - val_loss: 215653.3477 - val_acc: 0.0000e+00\b\b\b\b\b\b\b\b\b\b\b\b\b\b\b\b\b\b\b\b\b\b\b\b\b\b\b\b\b\b\b\b\b\b\b\b\b\b\b\b\b\b\b\n",
      "Epoch 125/200\n",
      "55/55 [==============================] - 0s - loss: 220202.8499 - acc: 0.0000e+00 - val_loss: 221293.9660 - val_acc: 0.0000e+00\b\b\b\b\b\b\b\b\b\b\b\b\b\b\b\b\b\b\b\b\b\b\b\b\b\b\b\b\b\b\b\b\b\b\b\b\b\b\b\b\b\b\b\b\b\n",
      "Epoch 126/200\n",
      "55/55 [==============================] - 0s - loss: 216967.3569 - acc: 0.0000e+00 - val_loss: 213608.8393 - val_acc: 0.0000e+00\b\b\b\b\b\b\b\b\b\b\b\b\b\b\b\b\b\b\b\b\b\b\b\b\b\b\b\b\b\b\b\b\b\b\b\b\b\b\b\b\b\b\b\b\b\n",
      "Epoch 127/200\n",
      "55/55 [==============================] - 0s - loss: 214572.2405 - acc: 0.0000e+00 - val_loss: 216568.2924 - val_acc: 0.0000e+00\b\b\b\b\b\b\b\b\b\b\b\b\b\b\b\b\b\b\b\b\b\b\b\b\b\b\b\b\b\b\b\b\b\b\b\b\b\b\b\b\b\b\b\n",
      "Epoch 128/200\n",
      "55/55 [==============================] - 0s - loss: 216174.7040 - acc: 0.0000e+00 - val_loss: 215422.3002 - val_acc: 0.0000e+00\b\b\b\b\b\b\b\b\b\b\b\b\b\b\b\b\b\b\b\b\b\b\b\b\b\b\b\b\b\b\b\b\b\b\b\b\b\b\b\b\b\b\b\b\b\n",
      "Epoch 129/200\n",
      "55/55 [==============================] - 0s - loss: 217600.0051 - acc: 0.0000e+00 - val_loss: 212610.0167 - val_acc: 0.0000e+00\b\b\b\b\b\b\b\b\b\b\b\b\b\b\b\b\b\b\b\b\b\b\b\b\b\b\b\b\b\b\b\b\b\b\b\b\b\b\b\b\b\b\b\n",
      "Epoch 130/200\n",
      "55/55 [==============================] - 0s - loss: 214372.3043 - acc: 0.0000e+00 - val_loss: 216549.8694 - val_acc: 0.0000e+00\b\b\b\b\b\b\b\b\b\b\b\b\b\b\b\b\b\b\b\b\b\b\b\b\b\b\b\b\b\b\b\b\b\b\b\b\b\b\b\b\b\b\b\b\b\n",
      "Epoch 131/200\n",
      "55/55 [==============================] - 0s - loss: 215276.6716 - acc: 0.0000e+00 - val_loss: 218477.2556 - val_acc: 0.0000e+00\b\b\b\b\b\b\b\b\b\b\b\b\b\b\b\b\b\b\b\b\b\b\b\b\b\b\b\b\b\b\b\b\b\b\b\b\b\b\b\b\b\b\b\b\b\n",
      "Epoch 132/200\n",
      "55/55 [==============================] - 0s - loss: 217072.3068 - acc: 0.0000e+00 - val_loss: 214170.2450 - val_acc: 0.0000e+00\b\b\b\b\b\b\b\b\b\b\b\b\b\b\b\b\b\b\b\b\b\b\b\b\b\b\b\b\b\b\b\b\b\b\b\b\b\b\b\b\b\b\b\b\b\n",
      "Epoch 133/200\n",
      "55/55 [==============================] - 0s - loss: 213099.9025 - acc: 0.0000e+00 - val_loss: 217906.1395 - val_acc: 0.0000e+00\b\b\b\b\b\b\b\b\b\b\b\b\b\b\b\b\b\b\b\b\b\b\b\b\b\b\b\b\b\b\b\b\b\b\b\b\b\b\b\b\b\b\b\b\b\n",
      "Epoch 134/200\n",
      "55/55 [==============================] - 0s - loss: 214066.3010 - acc: 0.0000e+00 - val_loss: 210951.2746 - val_acc: 0.0000e+00\b\b\b\b\b\b\b\b\b\b\b\b\b\b\b\b\b\b\b\b\b\b\b\b\b\b\b\b\b\b\b\b\b\b\b\b\b\b\b\b\b\b\b\b\b\n",
      "Epoch 135/200\n",
      "55/55 [==============================] - 0s - loss: 213189.3320 - acc: 0.0000e+00 - val_loss: 211065.5145 - val_acc: 0.0000e+00\b\b\b\b\b\b\b\b\b\b\b\b\b\b\b\b\b\b\b\b\b\b\b\b\b\b\b\b\b\b\b\b\b\b\b\b\b\b\b\b\b\b\b\n",
      "Epoch 136/200\n",
      "55/55 [==============================] - 0s - loss: 208995.8686 - acc: 0.0000e+00 - val_loss: 217396.5246 - val_acc: 0.0000e+00\b\b\b\b\b\b\b\b\b\b\b\b\b\b\b\b\b\b\b\b\b\b\b\b\b\b\b\b\b\b\b\b\b\b\b\b\b\b\b\b\b\b\b\b\b\n",
      "Epoch 137/200\n",
      "55/55 [==============================] - 0s - loss: 215424.5254 - acc: 0.0000e+00 - val_loss: 210035.8571 - val_acc: 0.0000e+00\b\b\b\b\b\b\b\b\b\b\b\b\b\b\b\b\b\b\b\b\b\b\b\b\b\b\b\b\b\b\b\b\b\b\b\b\b\b\b\b\b\b\b\n",
      "Epoch 138/200\n",
      "55/55 [==============================] - 0s - loss: 219665.4836 - acc: 0.0000e+00 - val_loss: 214625.6295 - val_acc: 0.0000e+00\b\b\b\b\b\b\b\b\b\b\b\b\b\b\b\b\b\b\b\b\b\b\b\b\b\b\b\b\b\b\b\b\b\b\b\b\b\b\b\b\b\b\b\n",
      "Epoch 139/200\n",
      "55/55 [==============================] - 0s - loss: 210425.6977 - acc: 0.0000e+00 - val_loss: 209414.4319 - val_acc: 0.0000e+00\b\b\b\b\b\b\b\b\b\b\b\b\b\b\b\b\b\b\b\b\b\b\b\b\b\b\b\b\b\b\b\b\b\b\b\b\b\b\b\b\b\b\b\n",
      "Epoch 140/200\n",
      "55/55 [==============================] - 0s - loss: 207601.4341 - acc: 0.0000e+00 - val_loss: 211717.1875 - val_acc: 0.0000e+00\b\b\b\b\b\b\b\b\b\b\b\b\b\b\b\b\b\b\b\b\b\b\b\b\b\b\b\b\b\b\b\b\b\b\b\b\b\b\b\b\b\b\b\b\b\n",
      "Epoch 141/200\n",
      "55/55 [==============================] - 0s - loss: 215152.9374 - acc: 0.0000e+00 - val_loss: 211601.6730 - val_acc: 0.0000e+00\b\b\b\b\b\b\b\b\b\b\b\b\b\b\b\b\b\b\b\b\b\b\b\b\b\b\b\b\b\b\b\b\b\b\b\b\b\b\b\b\b\b\b\b\b\n",
      "Epoch 142/200\n",
      "55/55 [==============================] - 0s - loss: 208616.2033 - acc: 0.0000e+00 - val_loss: 209492.2087 - val_acc: 0.0000e+00\b\b\b\b\b\b\b\b\b\b\b\b\b\b\b\b\b\b\b\b\b\b\b\b\b\b\b\b\b\b\b\b\b\b\b\b\b\b\b\b\b\b\b\n",
      "Epoch 143/200\n",
      "55/55 [==============================] - 0s - loss: 206390.2061 - acc: 0.0000e+00 - val_loss: 215109.8203 - val_acc: 0.0000e+00\b\b\b\b\b\b\b\b\b\b\b\b\b\b\b\b\b\b\b\b\b\b\b\b\b\b\b\b\b\b\b\b\b\b\b\b\b\b\b\b\b\b\b\b\b\n",
      "Epoch 144/200\n",
      "55/55 [==============================] - 0s - loss: 219820.9774 - acc: 0.0182 - val_loss: 209706.6261 - val_acc: 0.0000e+00\b\b\b\b\b\b\b\b\b\b\b\b\b\b\b\b\b\b\b\b\b\b\b\b\b\b\b\b\b\b\b\b\b\b\b\b\b\b\b\b\b\b\b\b\b\b\b\b\b\n",
      "Epoch 145/200\n",
      "55/55 [==============================] - 0s - loss: 210427.9841 - acc: 0.0000e+00 - val_loss: 210320.8789 - val_acc: 0.0000e+00\b\b\b\b\b\b\b\b\b\b\b\b\b\b\b\b\b\b\b\b\b\b\b\b\b\b\b\b\b\b\b\b\b\b\b\b\b\b\b\b\b\b\b\b\b\n",
      "Epoch 146/200\n",
      "55/55 [==============================] - 0s - loss: 208087.6229 - acc: 0.0000e+00 - val_loss: 207352.4609 - val_acc: 0.0000e+00\b\b\b\b\b\b\b\b\b\b\b\b\b\b\b\b\b\b\b\b\b\b\b\b\b\b\b\b\b\b\b\b\b\b\b\b\b\b\b\b\b\b\b\n",
      "Epoch 147/200\n",
      "55/55 [==============================] - 0s - loss: 206657.2257 - acc: 0.0000e+00 - val_loss: 206676.0982 - val_acc: 0.0000e+00\b\b\b\b\b\b\b\b\b\b\b\b\b\b\b\b\b\b\b\b\b\b\b\b\b\b\b\b\b\b\b\b\b\b\b\b\b\b\b\b\b\b\b\b\b\n",
      "Epoch 148/200\n",
      "55/55 [==============================] - 0s - loss: 211940.6314 - acc: 0.0000e+00 - val_loss: 206152.5792 - val_acc: 0.0000e+00\b\b\b\b\b\b\b\b\b\b\b\b\b\b\b\b\b\b\b\b\b\b\b\b\b\b\b\b\b\b\b\b\b\b\b\b\b\b\b\b\b\b\b\b\b\n",
      "Epoch 149/200\n",
      "55/55 [==============================] - 0s - loss: 209310.8156 - acc: 0.0000e+00 - val_loss: 208239.1105 - val_acc: 0.0000e+00\b\b\b\b\b\b\b\b\b\b\b\b\b\b\b\b\b\b\b\b\b\b\b\b\b\b\b\b\b\b\b\b\b\b\b\b\b\b\b\b\b\b\b\n",
      "Epoch 150/200\n",
      "55/55 [==============================] - 0s - loss: 204541.4615 - acc: 0.0000e+00 - val_loss: 205613.2991 - val_acc: 0.0000e+00\b\b\b\b\b\b\b\b\b\b\b\b\b\b\b\b\b\b\b\b\b\b\b\b\b\b\b\b\b\b\b\b\b\b\b\b\b\b\b\b\b\b\b\n",
      "Epoch 151/200\n",
      "55/55 [==============================] - 0s - loss: 210853.0476 - acc: 0.0000e+00 - val_loss: 211165.8711 - val_acc: 0.0000e+00\b\b\b\b\b\b\b\b\b\b\b\b\b\b\b\b\b\b\b\b\b\b\b\b\b\b\b\b\b\b\b\b\b\b\b\b\b\b\b\b\b\b\b\n",
      "Epoch 152/200\n",
      "55/55 [==============================] - 0s - loss: 206269.3687 - acc: 0.0000e+00 - val_loss: 205061.5725 - val_acc: 0.0000e+00\b\b\b\b\b\b\b\b\b\b\b\b\b\b\b\b\b\b\b\b\b\b\b\b\b\b\b\b\b\b\b\b\b\b\b\b\b\b\b\b\b\b\b\n",
      "Epoch 153/200\n",
      "55/55 [==============================] - 0s - loss: 201190.2854 - acc: 0.0000e+00 - val_loss: 208547.0497 - val_acc: 0.0000e+00\b\b\b\b\b\b\b\b\b\b\b\b\b\b\b\b\b\b\b\b\b\b\b\b\b\b\b\b\b\b\b\b\b\b\b\b\b\b\b\b\b\b\b\b\b\n",
      "Epoch 154/200\n",
      "55/55 [==============================] - 0s - loss: 204724.2909 - acc: 0.0000e+00 - val_loss: 208407.2372 - val_acc: 0.0000e+00\b\b\b\b\b\b\b\b\b\b\b\b\b\b\b\b\b\b\b\b\b\b\b\b\b\b\b\b\b\b\b\b\b\b\b\b\b\b\b\b\b\b\b\n",
      "Epoch 155/200\n",
      "55/55 [==============================] - 0s - loss: 202687.1820 - acc: 0.0000e+00 - val_loss: 204869.2690 - val_acc: 0.0000e+00\b\b\b\b\b\b\b\b\b\b\b\b\b\b\b\b\b\b\b\b\b\b\b\b\b\b\b\b\b\b\b\b\b\b\b\b\b\b\b\b\b\b\b\b\b\n",
      "Epoch 156/200\n",
      "55/55 [==============================] - 0s - loss: 203829.0638 - acc: 0.0000e+00 - val_loss: 208457.1814 - val_acc: 0.0000e+00\b\b\b\b\b\b\b\b\b\b\b\b\b\b\b\b\b\b\b\b\b\b\b\b\b\b\b\b\b\b\b\b\b\b\b\b\b\b\b\b\b\b\b\n",
      "Epoch 157/200\n",
      "55/55 [==============================] - 0s - loss: 205327.7861 - acc: 0.0000e+00 - val_loss: 203452.8281 - val_acc: 0.0000e+00\b\b\b\b\b\b\b\b\b\b\b\b\b\b\b\b\b\b\b\b\b\b\b\b\b\b\b\b\b\b\b\b\b\b\b\b\b\b\b\b\b\b\b\b\b\n",
      "Epoch 158/200\n",
      "55/55 [==============================] - 0s - loss: 203714.9224 - acc: 0.0000e+00 - val_loss: 211561.9654 - val_acc: 0.0000e+00\b\b\b\b\b\b\b\b\b\b\b\b\b\b\b\b\b\b\b\b\b\b\b\b\b\b\b\b\b\b\b\b\b\b\b\b\b\b\b\b\b\b\b\n",
      "Epoch 159/200\n",
      "55/55 [==============================] - 0s - loss: 203446.3016 - acc: 0.0000e+00 - val_loss: 202865.3984 - val_acc: 0.0000e+00\b\b\b\b\b\b\b\b\b\b\b\b\b\b\b\b\b\b\b\b\b\b\b\b\b\b\b\b\b\b\b\b\b\b\b\b\b\b\b\b\b\b\b\b\b\n",
      "Epoch 160/200\n",
      "55/55 [==============================] - 0s - loss: 200422.9355 - acc: 0.0000e+00 - val_loss: 207591.6295 - val_acc: 0.0000e+00\b\b\b\b\b\b\b\b\b\b\b\b\b\b\b\b\b\b\b\b\b\b\b\b\b\b\b\b\b\b\b\b\b\b\b\b\b\b\b\b\b\b\b\b\b\n",
      "Epoch 161/200\n",
      "55/55 [==============================] - 0s - loss: 197249.2618 - acc: 0.0000e+00 - val_loss: 202906.9866 - val_acc: 0.0000e+00\b\b\b\b\b\b\b\b\b\b\b\b\b\b\b\b\b\b\b\b\b\b\b\b\b\b\b\b\b\b\b\b\b\b\b\b\b\b\b\b\b\b\b\b\b\n",
      "Epoch 162/200\n",
      "55/55 [==============================] - 0s - loss: 199373.4790 - acc: 0.0000e+00 - val_loss: 204254.9096 - val_acc: 0.0000e+00\b\b\b\b\b\b\b\b\b\b\b\b\b\b\b\b\b\b\b\b\b\b\b\b\b\b\b\b\b\b\b\b\b\b\b\b\b\b\b\b\b\b\b\b\b\n",
      "Epoch 163/200\n",
      "55/55 [==============================] - 0s - loss: 209403.8322 - acc: 0.0000e+00 - val_loss: 204951.1456 - val_acc: 0.0000e+00\b\b\b\b\b\b\b\b\b\b\b\b\b\b\b\b\b\b\b\b\b\b\b\b\b\b\b\b\b\b\b\b\b\b\b\b\b\b\b\b\b\b\b\b\b\n",
      "Epoch 164/200\n",
      "55/55 [==============================] - 0s - loss: 214035.5739 - acc: 0.0000e+00 - val_loss: 203596.1501 - val_acc: 0.0000e+00\b\b\b\b\b\b\b\b\b\b\b\b\b\b\b\b\b\b\b\b\b\b\b\b\b\b\b\b\b\b\b\b\b\b\b\b\b\b\b\b\b\b\b\b\b\n",
      "Epoch 165/200\n",
      "55/55 [==============================] - 0s - loss: 197744.2285 - acc: 0.0000e+00 - val_loss: 204195.9581 - val_acc: 0.0000e+00\b\b\b\b\b\b\b\b\b\b\b\b\b\b\b\b\b\b\b\b\b\b\b\b\b\b\b\b\b\b\b\b\b\b\b\b\b\b\b\b\b\b\b\b\b\n",
      "Epoch 166/200\n",
      "55/55 [==============================] - 0s - loss: 195419.1466 - acc: 0.0000e+00 - val_loss: 203517.3644 - val_acc: 0.0000e+00\b\b\b\b\b\b\b\b\b\b\b\b\b\b\b\b\b\b\b\b\b\b\b\b\b\b\b\b\b\b\b\b\b\b\b\b\b\b\b\b\b\b\b\b\b\n",
      "Epoch 167/200\n",
      "55/55 [==============================] - 0s - loss: 197426.4556 - acc: 0.0000e+00 - val_loss: 204469.3817 - val_acc: 0.0000e+00\b\b\b\b\b\b\b\b\b\b\b\b\b\b\b\b\b\b\b\b\b\b\b\b\b\b\b\b\b\b\b\b\b\b\b\b\b\b\b\b\b\b\b\n",
      "Epoch 168/200\n",
      "55/55 [==============================] - 0s - loss: 201680.5862 - acc: 0.0000e+00 - val_loss: 201509.3136 - val_acc: 0.0000e+00\b\b\b\b\b\b\b\b\b\b\b\b\b\b\b\b\b\b\b\b\b\b\b\b\b\b\b\b\b\b\b\b\b\b\b\b\b\b\b\b\b\b\b\b\b\n",
      "Epoch 169/200\n",
      "55/55 [==============================] - 0s - loss: 195287.9673 - acc: 0.0000e+00 - val_loss: 201512.3750 - val_acc: 0.0000e+00\b\b\b\b\b\b\b\b\b\b\b\b\b\b\b\b\b\b\b\b\b\b\b\b\b\b\b\b\b\b\b\b\b\b\b\b\b\b\b\b\b\b\b\n",
      "Epoch 170/200\n",
      "55/55 [==============================] - 0s - loss: 197027.7468 - acc: 0.0000e+00 - val_loss: 201469.3722 - val_acc: 0.0000e+00\b\b\b\b\b\b\b\b\b\b\b\b\b\b\b\b\b\b\b\b\b\b\b\b\b\b\b\b\b\b\b\b\b\b\b\b\b\b\b\b\b\b\b\n",
      "Epoch 171/200\n",
      "55/55 [==============================] - 0s - loss: 200305.6364 - acc: 0.0000e+00 - val_loss: 200825.5000 - val_acc: 0.0000e+00\b\b\b\b\b\b\b\b\b\b\b\b\b\b\b\b\b\b\b\b\b\b\b\b\b\b\b\b\b\b\b\b\b\b\b\b\b\b\b\b\b\b\b\b\b\n",
      "Epoch 172/200\n",
      "55/55 [==============================] - 0s - loss: 202577.1726 - acc: 0.0000e+00 - val_loss: 202831.7254 - val_acc: 0.0000e+00\b\b\b\b\b\b\b\b\b\b\b\b\b\b\b\b\b\b\b\b\b\b\b\b\b\b\b\b\b\b\b\b\b\b\b\b\b\b\b\b\b\b\b\n",
      "Epoch 173/200\n",
      "55/55 [==============================] - 0s - loss: 196808.7867 - acc: 0.0000e+00 - val_loss: 199992.0859 - val_acc: 0.0000e+00\b\b\b\b\b\b\b\b\b\b\b\b\b\b\b\b\b\b\b\b\b\b\b\b\b\b\b\b\b\b\b\b\b\b\b\b\b\b\b\b\b\b\b\b\b\n",
      "Epoch 174/200\n",
      "55/55 [==============================] - 0s - loss: 200266.2738 - acc: 0.0000e+00 - val_loss: 200334.4107 - val_acc: 0.0000e+00\b\b\b\b\b\b\b\b\b\b\b\b\b\b\b\b\b\b\b\b\b\b\b\b\b\b\b\b\b\b\b\b\b\b\b\b\b\b\b\b\b\b\b\n",
      "Epoch 175/200\n",
      "55/55 [==============================] - 0s - loss: 211399.0729 - acc: 0.0000e+00 - val_loss: 199456.8080 - val_acc: 0.0000e+00\b\b\b\b\b\b\b\b\b\b\b\b\b\b\b\b\b\b\b\b\b\b\b\b\b\b\b\b\b\b\b\b\b\b\b\b\b\b\b\b\b\b\b\b\b\n",
      "Epoch 176/200\n",
      "55/55 [==============================] - 0s - loss: 202833.1919 - acc: 0.0000e+00 - val_loss: 201523.9141 - val_acc: 0.0000e+00\b\b\b\b\b\b\b\b\b\b\b\b\b\b\b\b\b\b\b\b\b\b\b\b\b\b\b\b\b\b\b\b\b\b\b\b\b\b\b\b\b\b\b\b\b\n",
      "Epoch 177/200\n",
      "55/55 [==============================] - 0s - loss: 194830.5054 - acc: 0.0000e+00 - val_loss: 199450.7723 - val_acc: 0.0000e+00\b\b\b\b\b\b\b\b\b\b\b\b\b\b\b\b\b\b\b\b\b\b\b\b\b\b\b\b\b\b\b\b\b\b\b\b\b\b\b\b\b\b\b\b\b\n",
      "Epoch 178/200\n",
      "55/55 [==============================] - 0s - loss: 194110.7762 - acc: 0.0000e+00 - val_loss: 202636.3136 - val_acc: 0.0000e+00\b\b\b\b\b\b\b\b\b\b\b\b\b\b\b\b\b\b\b\b\b\b\b\b\b\b\b\b\b\b\b\b\b\b\b\b\b\b\b\b\b\b\b\b\b\n",
      "Epoch 179/200\n",
      "55/55 [==============================] - 0s - loss: 193927.1929 - acc: 0.0000e+00 - val_loss: 201285.3834 - val_acc: 0.0000e+00\b\b\b\b\b\b\b\b\b\b\b\b\b\b\b\b\b\b\b\b\b\b\b\b\b\b\b\b\b\b\b\b\b\b\b\b\b\b\b\b\b\b\b\n",
      "Epoch 180/200\n",
      "55/55 [==============================] - 0s - loss: 192022.6953 - acc: 0.0000e+00 - val_loss: 198931.5725 - val_acc: 0.0000e+00\b\b\b\b\b\b\b\b\b\b\b\b\b\b\b\b\b\b\b\b\b\b\b\b\b\b\b\b\b\b\b\b\b\b\b\b\b\b\b\b\b\b\b\b\b\n",
      "Epoch 181/200\n",
      "55/55 [==============================] - 0s - loss: 197759.3524 - acc: 0.0000e+00 - val_loss: 202276.6629 - val_acc: 0.0000e+00\b\b\b\b\b\b\b\b\b\b\b\b\b\b\b\b\b\b\b\b\b\b\b\b\b\b\b\b\b\b\b\b\b\b\b\b\b\b\b\b\b\b\b\b\b\n",
      "Epoch 182/200\n",
      "55/55 [==============================] - 0s - loss: 190711.8677 - acc: 0.0000e+00 - val_loss: 198517.5329 - val_acc: 0.0000e+00\b\b\b\b\b\b\b\b\b\b\b\b\b\b\b\b\b\b\b\b\b\b\b\b\b\b\b\b\b\b\b\b\b\b\b\b\b\b\b\b\b\b\b\b\b\n",
      "Epoch 183/200\n",
      "55/55 [==============================] - 0s - loss: 188987.1455 - acc: 0.0000e+00 - val_loss: 200811.2946 - val_acc: 0.0000e+00\b\b\b\b\b\b\b\b\b\b\b\b\b\b\b\b\b\b\b\b\b\b\b\b\b\b\b\b\b\b\b\b\b\b\b\b\b\b\b\b\b\b\b\n",
      "Epoch 184/200\n",
      "55/55 [==============================] - 0s - loss: 191175.7987 - acc: 0.0000e+00 - val_loss: 196972.4375 - val_acc: 0.0000e+00\b\b\b\b\b\b\b\b\b\b\b\b\b\b\b\b\b\b\b\b\b\b\b\b\b\b\b\b\b\b\b\b\b\b\b\b\b\b\b\b\b\b\b\n",
      "Epoch 185/200\n",
      "55/55 [==============================] - 0s - loss: 203346.6723 - acc: 0.0000e+00 - val_loss: 198164.5240 - val_acc: 0.0000e+00\b\b\b\b\b\b\b\b\b\b\b\b\b\b\b\b\b\b\b\b\b\b\b\b\b\b\b\b\b\b\b\b\b\b\b\b\b\b\b\b\b\b\b\b\b\n",
      "Epoch 186/200\n",
      "55/55 [==============================] - 0s - loss: 193251.8558 - acc: 0.0000e+00 - val_loss: 196815.0798 - val_acc: 0.0000e+00\b\b\b\b\b\b\b\b\b\b\b\b\b\b\b\b\b\b\b\b\b\b\b\b\b\b\b\b\b\b\b\b\b\b\b\b\b\b\b\b\b\b\b\b\b\n",
      "Epoch 187/200\n",
      "55/55 [==============================] - 0s - loss: 187264.0500 - acc: 0.0000e+00 - val_loss: 197688.0926 - val_acc: 0.0000e+00\b\b\b\b\b\b\b\b\b\b\b\b\b\b\b\b\b\b\b\b\b\b\b\b\b\b\b\b\b\b\b\b\b\b\b\b\b\b\b\b\b\b\b\b\b\n",
      "Epoch 188/200\n",
      "55/55 [==============================] - 0s - loss: 193477.8816 - acc: 0.0000e+00 - val_loss: 198869.5971 - val_acc: 0.0000e+00\b\b\b\b\b\b\b\b\b\b\b\b\b\b\b\b\b\b\b\b\b\b\b\b\b\b\b\b\b\b\b\b\b\b\b\b\b\b\b\b\b\b\b\n",
      "Epoch 189/200\n",
      "55/55 [==============================] - 0s - loss: 200543.9127 - acc: 0.0000e+00 - val_loss: 198181.0352 - val_acc: 0.0000e+00\b\b\b\b\b\b\b\b\b\b\b\b\b\b\b\b\b\b\b\b\b\b\b\b\b\b\b\b\b\b\b\b\b\b\b\b\b\b\b\b\b\b\b\n",
      "Epoch 190/200\n",
      "55/55 [==============================] - 0s - loss: 190446.3865 - acc: 0.0000e+00 - val_loss: 195771.2489 - val_acc: 0.0000e+00\b\b\b\b\b\b\b\b\b\b\b\b\b\b\b\b\b\b\b\b\b\b\b\b\b\b\b\b\b\b\b\b\b\b\b\b\b\b\b\b\b\b\b\n",
      "Epoch 191/200\n",
      "55/55 [==============================] - 0s - loss: 187185.7774 - acc: 0.0000e+00 - val_loss: 195740.9062 - val_acc: 0.0000e+00\b\b\b\b\b\b\b\b\b\b\b\b\b\b\b\b\b\b\b\b\b\b\b\b\b\b\b\b\b\b\b\b\b\b\b\b\b\b\b\b\b\b\b\b\b\n",
      "Epoch 192/200\n",
      "55/55 [==============================] - 0s - loss: 187869.2673 - acc: 0.0000e+00 - val_loss: 196035.0195 - val_acc: 0.0000e+00\b\b\b\b\b\b\b\b\b\b\b\b\b\b\b\b\b\b\b\b\b\b\b\b\b\b\b\b\b\b\b\b\b\b\b\b\b\b\b\b\b\b\b\b\b\n",
      "Epoch 193/200\n",
      "55/55 [==============================] - 0s - loss: 187571.7716 - acc: 0.0182 - val_loss: 195814.9235 - val_acc: 0.0000e+00\b\b\b\b\b\b\b\b\b\b\b\b\b\b\b\b\b\b\b\b\b\b\b\b\b\b\b\b\b\b\b\b\b\b\b\b\b\b\b\b\b\b\b\b\b\b\b\b\b\n",
      "Epoch 194/200\n",
      "55/55 [==============================] - 0s - loss: 185053.4863 - acc: 0.0000e+00 - val_loss: 199531.1836 - val_acc: 0.0000e+00\b\b\b\b\b\b\b\b\b\b\b\b\b\b\b\b\b\b\b\b\b\b\b\b\b\b\b\b\b\b\b\b\b\b\b\b\b\b\b\b\b\b\b\n",
      "Epoch 195/200\n",
      "55/55 [==============================] - 0s - loss: 187710.0561 - acc: 0.0000e+00 - val_loss: 194138.8984 - val_acc: 0.0000e+00\b\b\b\b\b\b\b\b\b\b\b\b\b\b\b\b\b\b\b\b\b\b\b\b\b\b\b\b\b\b\b\b\b\b\b\b\b\b\b\b\b\b\b\b\b\n",
      "Epoch 196/200\n",
      "55/55 [==============================] - 0s - loss: 197815.1419 - acc: 0.0000e+00 - val_loss: 198580.5737 - val_acc: 0.0000e+00\b\b\b\b\b\b\b\b\b\b\b\b\b\b\b\b\b\b\b\b\b\b\b\b\b\b\b\b\b\b\b\b\b\b\b\b\b\b\b\b\b\b\b\b\b\n",
      "Epoch 197/200\n",
      "55/55 [==============================] - 0s - loss: 184528.1433 - acc: 0.0000e+00 - val_loss: 194098.0882 - val_acc: 0.0000e+00\b\b\b\b\b\b\b\b\b\b\b\b\b\b\b\b\b\b\b\b\b\b\b\b\b\b\b\b\b\b\b\b\b\b\b\b\b\b\b\b\b\b\b\b\b\n",
      "Epoch 198/200\n",
      "55/55 [==============================] - 0s - loss: 185659.1609 - acc: 0.0000e+00 - val_loss: 194297.6585 - val_acc: 0.0000e+00\b\b\b\b\b\b\b\b\b\b\b\b\b\b\b\b\b\b\b\b\b\b\b\b\b\b\b\b\b\b\b\b\b\b\b\b\b\b\b\b\b\b\b\b\b\n",
      "Epoch 199/200\n",
      "55/55 [==============================] - 0s - loss: 183602.1490 - acc: 0.0000e+00 - val_loss: 196188.2584 - val_acc: 0.0000e+00\b\b\b\b\b\b\b\b\b\b\b\b\b\b\b\b\b\b\b\b\b\b\b\b\b\b\b\b\b\b\b\b\b\b\b\b\b\b\b\b\b\b\b\n",
      "Epoch 200/200\n",
      "55/55 [==============================] - 0s - loss: 187133.2067 - acc: 0.0000e+00 - val_loss: 194677.5318 - val_acc: 0.0000e+00\b\b\b\b\b\b\b\b\b\b\b\b\b\b\b\b\b\b\b\b\b\b\b\b\b\b\b\b\b\b\b\b\b\b\b\b\b\b\b\b\b\b\b\b\b\n"
     ]
    }
   ],
   "source": [
    "h=model.fit(trainX, trainY, epochs=200, batch_size=2, verbose=1,validation_data=(testX,testY))"
   ]
  },
  {
   "cell_type": "markdown",
   "metadata": {},
   "source": [
    "Make predictions"
   ]
  },
  {
   "cell_type": "code",
   "execution_count": 56,
   "metadata": {
    "collapsed": false
   },
   "outputs": [],
   "source": [
    "trainPredict = model.predict(trainX)\n",
    "testPredict = model.predict(testX)"
   ]
  },
  {
   "cell_type": "code",
   "execution_count": 57,
   "metadata": {
    "collapsed": false
   },
   "outputs": [
    {
     "name": "stdout",
     "output_type": "stream",
     "text": [
      "(55,) (7,)\n"
     ]
    }
   ],
   "source": [
    "trainPredict=trainPredict.reshape(trainPredict.shape[0])\n",
    "testPredict=testPredict.reshape(testPredict.shape[0])\n",
    "print(trainPredict.shape,testPredict.shape)"
   ]
  },
  {
   "cell_type": "markdown",
   "metadata": {},
   "source": [
    "Calculate root mean squared error"
   ]
  },
  {
   "cell_type": "code",
   "execution_count": 58,
   "metadata": {
    "collapsed": false
   },
   "outputs": [
    {
     "name": "stdout",
     "output_type": "stream",
     "text": [
      "Train Score: 424.09 RMSE\n",
      "Test Score: 441.22 RMSE\n"
     ]
    }
   ],
   "source": [
    "trainScore = math.sqrt(mean_squared_error(trainY, trainPredict))\n",
    "print('Train Score: %.2f RMSE' % (trainScore))\n",
    "testScore = math.sqrt(mean_squared_error(testY, testPredict))\n",
    "print('Test Score: %.2f RMSE' % (testScore))"
   ]
  },
  {
   "cell_type": "code",
   "execution_count": 59,
   "metadata": {
    "collapsed": false
   },
   "outputs": [
    {
     "name": "stdout",
     "output_type": "stream",
     "text": [
      "3940 3892.19\n"
     ]
    }
   ],
   "source": [
    "print(testY[0],testPredict[0])"
   ]
  },
  {
   "cell_type": "markdown",
   "metadata": {},
   "source": [
    "Visualization"
   ]
  },
  {
   "cell_type": "code",
   "execution_count": 60,
   "metadata": {
    "collapsed": false
   },
   "outputs": [
    {
     "name": "stdout",
     "output_type": "stream",
     "text": [
      "72\n"
     ]
    }
   ],
   "source": [
    "crimeplot=crimegroup.copy()\n",
    "print(len(crimeplot))\n",
    "trainplot=pd.Series(index=crimeplot.index)\n",
    "testplot=pd.Series(index=crimeplot.index)"
   ]
  },
  {
   "cell_type": "code",
   "execution_count": 61,
   "metadata": {
    "collapsed": false,
    "scrolled": true
   },
   "outputs": [],
   "source": [
    "trainplot[look_back:len(trainPredict)+look_back]=trainPredict\n",
    "testplot[len(trainPredict)+(look_back*2)+1:len(crimeplot)-1]=testPredict"
   ]
  },
  {
   "cell_type": "code",
   "execution_count": 63,
   "metadata": {
    "collapsed": false
   },
   "outputs": [
    {
     "data": {
      "image/png": "[encoded data removed]",
      "text/plain": [
       "<matplotlib.figure.Figure at 0x7f78d86b0240>"
      ]
     },
     "metadata": {},
     "output_type": "display_data"
    }
   ],
   "source": [
    "plt.clf()\n",
    "crimeplot.plot(color='red',label='actual crime counts')\n",
    "trainplot.plot(color='green',label='predicted training count')\n",
    "testplot.plot(color='blue',label='predicted testing count')\n",
    "plt.title('Monthly BR Crime Count Prediction using Simple Fully Connected')\n",
    "plt.xlabel('Months 2011-2016')\n",
    "plt.ylabel('# of crimes')\n",
    "plt.legend(loc='upper right')\n",
    "plt.show()"
   ]
  },
  {
   "cell_type": "markdown",
   "metadata": {},
   "source": [
    "# Part 2 testing: LSTM Version"
   ]
  },
  {
   "cell_type": "code",
   "execution_count": 27,
   "metadata": {
    "collapsed": false
   },
   "outputs": [],
   "source": [
    "dataset=crimegroup.values\n",
    "dataset=np.reshape(dataset,(-1,1))"
   ]
  },
  {
   "cell_type": "markdown",
   "metadata": {},
   "source": [
    "I wanted to experiment with normalization"
   ]
  },
  {
   "cell_type": "code",
   "execution_count": 28,
   "metadata": {
    "collapsed": false
   },
   "outputs": [
    {
     "name": "stderr",
     "output_type": "stream",
     "text": [
      "/home/mani/anaconda3/lib/python3.6/site-packages/sklearn/utils/validation.py:429: DataConversionWarning: Data with input dtype int64 was converted to float64 by MinMaxScaler.\n",
      "  warnings.warn(msg, _DataConversionWarning)\n"
     ]
    }
   ],
   "source": [
    "scaler=MinMaxScaler(feature_range=(0,1))\n",
    "dataset=scaler.fit_transform(dataset)"
   ]
  },
  {
   "cell_type": "markdown",
   "metadata": {},
   "source": [
    "Same as before"
   ]
  },
  {
   "cell_type": "code",
   "execution_count": 29,
   "metadata": {
    "collapsed": true
   },
   "outputs": [],
   "source": [
    "train2=dataset[0:61,:]\n",
    "test2=dataset[61:,:]"
   ]
  },
  {
   "cell_type": "code",
   "execution_count": 30,
   "metadata": {
    "collapsed": true
   },
   "outputs": [],
   "source": [
    "def create_dataset(dataset, look_back=1):\n",
    "\tdataX, dataY = [], []\n",
    "\tfor i in range(len(dataset)-look_back-1):\n",
    "\t\ta = dataset[i:(i+look_back), 0]\n",
    "\t\tdataX.append(a)\n",
    "\t\tdataY.append(dataset[i + look_back, 0])\n",
    "\treturn np.array(dataX), np.array(dataY)"
   ]
  },
  {
   "cell_type": "code",
   "execution_count": 31,
   "metadata": {
    "collapsed": false
   },
   "outputs": [
    {
     "data": {
      "text/plain": [
       "(59, 1)"
      ]
     },
     "execution_count": 31,
     "metadata": {},
     "output_type": "execute_result"
    }
   ],
   "source": [
    "look_back2 = 4\n",
    "train2X, train2Y = create_dataset(train2, look_back2)\n",
    "test2X, test2Y = create_dataset(test2, look_back2)\n",
    "train2X.shape"
   ]
  },
  {
   "cell_type": "markdown",
   "metadata": {},
   "source": [
    "reshape input to be [samples, time steps, features] which is required for LSTM"
   ]
  },
  {
   "cell_type": "code",
   "execution_count": 32,
   "metadata": {
    "collapsed": false
   },
   "outputs": [],
   "source": [
    "train2X = np.reshape(train2X, (train2X.shape[0], 1, train2X.shape[1]))\n",
    "test2X = np.reshape(test2X, (test2X.shape[0], 1, test2X.shape[1]))"
   ]
  },
  {
   "cell_type": "markdown",
   "metadata": {},
   "source": [
    "Compile and train LSTM network"
   ]
  },
  {
   "cell_type": "code",
   "execution_count": 33,
   "metadata": {
    "collapsed": true
   },
   "outputs": [],
   "source": [
    "model2 = Sequential()\n",
    "model2.add(LSTM(look_back2, input_shape=(1, look_back2)))\n",
    "model2.add(Dense(1))\n",
    "model2.compile(loss='mean_squared_error', optimizer='adam')"
   ]
  },
  {
   "cell_type": "code",
   "execution_count": 34,
   "metadata": {
    "collapsed": false
   },
   "outputs": [
    {
     "name": "stdout",
     "output_type": "stream",
     "text": [
      "Epoch 1/100\n",
      "0s - loss: 0.1855\n",
      "Epoch 2/100\n",
      "0s - loss: 0.1370\n",
      "Epoch 3/100\n",
      "0s - loss: 0.1018\n",
      "Epoch 4/100\n",
      "0s - loss: 0.0773\n",
      "Epoch 5/100\n",
      "0s - loss: 0.0615\n",
      "Epoch 6/100\n",
      "0s - loss: 0.0519\n",
      "Epoch 7/100\n",
      "0s - loss: 0.0463\n",
      "Epoch 8/100\n",
      "0s - loss: 0.0433\n",
      "Epoch 9/100\n",
      "0s - loss: 0.0415\n",
      "Epoch 10/100\n",
      "0s - loss: 0.0405\n",
      "Epoch 11/100\n",
      "0s - loss: 0.0396\n",
      "Epoch 12/100\n",
      "0s - loss: 0.0391\n",
      "Epoch 13/100\n",
      "0s - loss: 0.0384\n",
      "Epoch 14/100\n",
      "0s - loss: 0.0377\n",
      "Epoch 15/100\n",
      "0s - loss: 0.0372\n",
      "Epoch 16/100\n",
      "0s - loss: 0.0367\n",
      "Epoch 17/100\n",
      "0s - loss: 0.0360\n",
      "Epoch 18/100\n",
      "0s - loss: 0.0355\n",
      "Epoch 19/100\n",
      "0s - loss: 0.0347\n",
      "Epoch 20/100\n",
      "0s - loss: 0.0342\n",
      "Epoch 21/100\n",
      "0s - loss: 0.0335\n",
      "Epoch 22/100\n",
      "0s - loss: 0.0331\n",
      "Epoch 23/100\n",
      "0s - loss: 0.0323\n",
      "Epoch 24/100\n",
      "0s - loss: 0.0319\n",
      "Epoch 25/100\n",
      "0s - loss: 0.0311\n",
      "Epoch 26/100\n",
      "0s - loss: 0.0310\n",
      "Epoch 27/100\n",
      "0s - loss: 0.0299\n",
      "Epoch 28/100\n",
      "0s - loss: 0.0294\n",
      "Epoch 29/100\n",
      "0s - loss: 0.0289\n",
      "Epoch 30/100\n",
      "0s - loss: 0.0283\n",
      "Epoch 31/100\n",
      "0s - loss: 0.0277\n",
      "Epoch 32/100\n",
      "0s - loss: 0.0273\n",
      "Epoch 33/100\n",
      "0s - loss: 0.0271\n",
      "Epoch 34/100\n",
      "0s - loss: 0.0264\n",
      "Epoch 35/100\n",
      "0s - loss: 0.0258\n",
      "Epoch 36/100\n",
      "0s - loss: 0.0254\n",
      "Epoch 37/100\n",
      "0s - loss: 0.0252\n",
      "Epoch 38/100\n",
      "0s - loss: 0.0245\n",
      "Epoch 39/100\n",
      "0s - loss: 0.0241\n",
      "Epoch 40/100\n",
      "0s - loss: 0.0238\n",
      "Epoch 41/100\n",
      "0s - loss: 0.0233\n",
      "Epoch 42/100\n",
      "0s - loss: 0.0231\n",
      "Epoch 43/100\n",
      "0s - loss: 0.0227\n",
      "Epoch 44/100\n",
      "0s - loss: 0.0223\n",
      "Epoch 45/100\n",
      "0s - loss: 0.0223\n",
      "Epoch 46/100\n",
      "0s - loss: 0.0219\n",
      "Epoch 47/100\n",
      "0s - loss: 0.0217\n",
      "Epoch 48/100\n",
      "0s - loss: 0.0214\n",
      "Epoch 49/100\n",
      "0s - loss: 0.0211\n",
      "Epoch 50/100\n",
      "0s - loss: 0.0209\n",
      "Epoch 51/100\n",
      "0s - loss: 0.0208\n",
      "Epoch 52/100\n",
      "0s - loss: 0.0206\n",
      "Epoch 53/100\n",
      "0s - loss: 0.0203\n",
      "Epoch 54/100\n",
      "0s - loss: 0.0202\n",
      "Epoch 55/100\n",
      "0s - loss: 0.0202\n",
      "Epoch 56/100\n",
      "0s - loss: 0.0201\n",
      "Epoch 57/100\n",
      "0s - loss: 0.0198\n",
      "Epoch 58/100\n",
      "0s - loss: 0.0198\n",
      "Epoch 59/100\n",
      "0s - loss: 0.0198\n",
      "Epoch 60/100\n",
      "0s - loss: 0.0196\n",
      "Epoch 61/100\n",
      "0s - loss: 0.0196\n",
      "Epoch 62/100\n",
      "0s - loss: 0.0195\n",
      "Epoch 63/100\n",
      "0s - loss: 0.0197\n",
      "Epoch 64/100\n",
      "0s - loss: 0.0195\n",
      "Epoch 65/100\n",
      "0s - loss: 0.0193\n",
      "Epoch 66/100\n",
      "0s - loss: 0.0194\n",
      "Epoch 67/100\n",
      "0s - loss: 0.0194\n",
      "Epoch 68/100\n",
      "0s - loss: 0.0192\n",
      "Epoch 69/100\n",
      "0s - loss: 0.0193\n",
      "Epoch 70/100\n",
      "0s - loss: 0.0191\n",
      "Epoch 71/100\n",
      "0s - loss: 0.0192\n",
      "Epoch 72/100\n",
      "0s - loss: 0.0192\n",
      "Epoch 73/100\n",
      "0s - loss: 0.0192\n",
      "Epoch 74/100\n",
      "0s - loss: 0.0192\n",
      "Epoch 75/100\n",
      "0s - loss: 0.0190\n",
      "Epoch 76/100\n",
      "0s - loss: 0.0189\n",
      "Epoch 77/100\n",
      "0s - loss: 0.0189\n",
      "Epoch 78/100\n",
      "0s - loss: 0.0190\n",
      "Epoch 79/100\n",
      "0s - loss: 0.0189\n",
      "Epoch 80/100\n",
      "0s - loss: 0.0189\n",
      "Epoch 81/100\n",
      "0s - loss: 0.0189\n",
      "Epoch 82/100\n",
      "0s - loss: 0.0190\n",
      "Epoch 83/100\n",
      "0s - loss: 0.0191\n",
      "Epoch 84/100\n",
      "0s - loss: 0.0189\n",
      "Epoch 85/100\n",
      "0s - loss: 0.0189\n",
      "Epoch 86/100\n",
      "0s - loss: 0.0190\n",
      "Epoch 87/100\n",
      "0s - loss: 0.0189\n",
      "Epoch 88/100\n",
      "0s - loss: 0.0190\n",
      "Epoch 89/100\n",
      "0s - loss: 0.0191\n",
      "Epoch 90/100\n",
      "0s - loss: 0.0189\n",
      "Epoch 91/100\n",
      "0s - loss: 0.0189\n",
      "Epoch 92/100\n",
      "0s - loss: 0.0188\n",
      "Epoch 93/100\n",
      "0s - loss: 0.0190\n",
      "Epoch 94/100\n",
      "0s - loss: 0.0188\n",
      "Epoch 95/100\n",
      "0s - loss: 0.0189\n",
      "Epoch 96/100\n",
      "0s - loss: 0.0189\n",
      "Epoch 97/100\n",
      "0s - loss: 0.0188\n",
      "Epoch 98/100\n",
      "0s - loss: 0.0189\n",
      "Epoch 99/100\n",
      "0s - loss: 0.0187\n",
      "Epoch 100/100\n",
      "0s - loss: 0.0187\n"
     ]
    }
   ],
   "source": [
    "h2=model2.fit(train2X, train2Y, epochs=100, batch_size=1, verbose=2)"
   ]
  },
  {
   "cell_type": "code",
   "execution_count": null,
   "metadata": {
    "collapsed": true
   },
   "outputs": [],
   "source": [
    "Make predictions"
   ]
  },
  {
   "cell_type": "code",
   "execution_count": 35,
   "metadata": {
    "collapsed": true
   },
   "outputs": [],
   "source": [
    "train2Predict = model2.predict(train2X)\n",
    "test2Predict = model2.predict(test2X)"
   ]
  },
  {
   "cell_type": "markdown",
   "metadata": {},
   "source": [
    "Denormalize to have actual values"
   ]
  },
  {
   "cell_type": "code",
   "execution_count": null,
   "metadata": {
    "collapsed": true
   },
   "outputs": [],
   "source": [
    "train2Predict = scaler.inverse_transform(train2Predict)\n",
    "train2Y = scaler.inverse_transform([train2Y])\n",
    "test2Predict = scaler.inverse_transform(test2Predict)\n",
    "test2Y = scaler.inverse_transform([test2Y])"
   ]
  },
  {
   "cell_type": "code",
   "execution_count": null,
   "metadata": {
    "collapsed": true
   },
   "outputs": [],
   "source": [
    "Calculate root mean squared error score"
   ]
  },
  {
   "cell_type": "code",
   "execution_count": 36,
   "metadata": {
    "collapsed": false
   },
   "outputs": [
    {
     "name": "stdout",
     "output_type": "stream",
     "text": [
      "Train Score: 359.77 RMSE\n",
      "Test Score: 306.48 RMSE\n"
     ]
    }
   ],
   "source": [
    "import math\n",
    "train2Score = math.sqrt(mean_squared_error(train2Y[0], train2Predict[:,0]))\n",
    "print('Train Score: %.2f RMSE' % (train2Score))\n",
    "test2Score = math.sqrt(mean_squared_error(test2Y[0], test2Predict[:,0]))\n",
    "print('Test Score: %.2f RMSE' % (test2Score))"
   ]
  },
  {
   "cell_type": "code",
   "execution_count": 37,
   "metadata": {
    "collapsed": false
   },
   "outputs": [
    {
     "name": "stdout",
     "output_type": "stream",
     "text": [
      "(1, 59) (59, 1)\n"
     ]
    }
   ],
   "source": [
    "print(train2Y.shape,train2Predict.shape)\n",
    "train2Predict=train2Predict.reshape(train2Predict.shape[0])\n",
    "test2Predict=test2Predict.reshape(test2Predict.shape[0])"
   ]
  },
  {
   "cell_type": "markdown",
   "metadata": {},
   "source": [
    "Visualize"
   ]
  },
  {
   "cell_type": "code",
   "execution_count": 38,
   "metadata": {
    "collapsed": true
   },
   "outputs": [],
   "source": [
    "train2plot=pd.Series(index=crimeplot.index)\n",
    "test2plot=pd.Series(index=crimeplot.index)\n",
    "train2plot[look_back2:len(train2Predict)+look_back2]=train2Predict\n",
    "test2plot[len(train2Predict)+(look_back2*2)+1:len(crimeplot)-1]=test2Predict"
   ]
  },
  {
   "cell_type": "code",
   "execution_count": 39,
   "metadata": {
    "collapsed": false
   },
   "outputs": [
    {
     "data": {
      "image/png": "[encoded data removed]",
      "text/plain": [
       "<matplotlib.figure.Figure at 0x7f78e8556d30>"
      ]
     },
     "metadata": {},
     "output_type": "display_data"
    }
   ],
   "source": [
    "plt.clf()\n",
    "crimeplot.plot(color='orange',label='actual crime counts')\n",
    "train2plot.plot(color='purple',label='predicted training count')\n",
    "test2plot.plot(color='blue',label='predicted testing count')\n",
    "plt.title('Monthly BR Crime Count Prediction using LSTM')\n",
    "plt.xlabel('Months 2011-2016')\n",
    "plt.ylabel('# of crimes')\n",
    "plt.legend(loc='upper right')\n",
    "plt.show()"
   ]
  },
  {
   "cell_type": "markdown",
   "metadata": {},
   "source": [
    "## Part 3: ARIMA"
   ]
  },
  {
   "cell_type": "code",
   "execution_count": 40,
   "metadata": {
    "collapsed": false
   },
   "outputs": [],
   "source": [
    "from pandas.tools.plotting import autocorrelation_plot\n",
    "from statsmodels.tsa.arima_model import ARIMA"
   ]
  },
  {
   "cell_type": "markdown",
   "metadata": {},
   "source": [
    "Autocorrelation plot used to identify best time window"
   ]
  },
  {
   "cell_type": "code",
   "execution_count": 41,
   "metadata": {
    "collapsed": false
   },
   "outputs": [
    {
     "data": {
      "image/png": "[encoded data removed]",
      "text/plain": [
       "<matplotlib.figure.Figure at 0x7f78e8063550>"
      ]
     },
     "metadata": {},
     "output_type": "display_data"
    }
   ],
   "source": [
    "autocorrelation_plot(crimegroup)\n",
    "plt.show()"
   ]
  },
  {
   "cell_type": "code",
   "execution_count": 42,
   "metadata": {
    "collapsed": false
   },
   "outputs": [],
   "source": [
    "crimegroup.dtype\n",
    "acrimegroup=crimegroup.astype(np.float64)"
   ]
  },
  {
   "cell_type": "markdown",
   "metadata": {},
   "source": [
    "Define ARIMA model with p=4,d=1,q=0"
   ]
  },
  {
   "cell_type": "code",
   "execution_count": 43,
   "metadata": {
    "collapsed": false
   },
   "outputs": [
    {
     "name": "stdout",
     "output_type": "stream",
     "text": [
      "                             ARIMA Model Results                              \n",
      "==============================================================================\n",
      "Dep. Variable:                D.CRIME   No. Observations:                   71\n",
      "Model:                 ARIMA(4, 1, 0)   Log Likelihood                -511.135\n",
      "Method:                       css-mle   S.D. of innovations            322.909\n",
      "Date:                Thu, 04 May 2017   AIC                           1034.270\n",
      "Time:                        16:48:57   BIC                           1047.846\n",
      "Sample:                    02-28-2011   HQIC                          1039.669\n",
      "                         - 12-31-2016                                         \n",
      "=================================================================================\n",
      "                    coef    std err          z      P>|z|      [0.025      0.975]\n",
      "---------------------------------------------------------------------------------\n",
      "const           -18.1863     25.427     -0.715      0.477     -68.021      31.649\n",
      "ar.L1.D.CRIME    -0.4190      0.116     -3.626      0.001      -0.645      -0.193\n",
      "ar.L2.D.CRIME     0.1042      0.132      0.789      0.433      -0.155       0.363\n",
      "ar.L3.D.CRIME    -0.0253      0.135     -0.187      0.853      -0.291       0.240\n",
      "ar.L4.D.CRIME    -0.1885      0.123     -1.534      0.130      -0.429       0.052\n",
      "                                    Roots                                    \n",
      "=============================================================================\n",
      "                 Real           Imaginary           Modulus         Frequency\n",
      "-----------------------------------------------------------------------------\n",
      "AR.1           -1.1779           -0.7323j            1.3869           -0.4115\n",
      "AR.2           -1.1779           +0.7323j            1.3869            0.4115\n",
      "AR.3            1.1108           -1.2343j            1.6606           -0.1334\n",
      "AR.4            1.1108           +1.2343j            1.6606            0.1334\n",
      "-----------------------------------------------------------------------------\n"
     ]
    }
   ],
   "source": [
    "#fit ARIMA model to crime series\n",
    "look_back3=4\n",
    "amodel=ARIMA(acrimegroup,order=(look_back3,1,0))\n",
    "amodel_fit=amodel.fit(disp=0)\n",
    "print(amodel_fit.summary())"
   ]
  },
  {
   "cell_type": "markdown",
   "metadata": {},
   "source": [
    "Plot residual errors"
   ]
  },
  {
   "cell_type": "code",
   "execution_count": 44,
   "metadata": {
    "collapsed": false
   },
   "outputs": [
    {
     "data": {
      "image/png": "[encoded data removed]",
      "text/plain": [
       "<matplotlib.figure.Figure at 0x7f78e8379748>"
      ]
     },
     "metadata": {},
     "output_type": "display_data"
    },
    {
     "data": {
      "image/png": "[encoded data removed]",
      "text/plain": [
       "<matplotlib.figure.Figure at 0x7f78e82042e8>"
      ]
     },
     "metadata": {},
     "output_type": "display_data"
    },
    {
     "name": "stdout",
     "output_type": "stream",
     "text": [
      "                0\n",
      "count   71.000000\n",
      "mean    -0.756559\n",
      "std    326.994076\n",
      "min   -724.570069\n",
      "25%   -237.339737\n",
      "50%    -34.828487\n",
      "75%    197.379308\n",
      "max    668.401159\n"
     ]
    }
   ],
   "source": [
    "residuals=pd.DataFrame(amodel_fit.resid)\n",
    "residuals.plot()\n",
    "plt.show()\n",
    "residuals.plot(kind='kde')\n",
    "plt.show()\n",
    "print(residuals.describe())"
   ]
  },
  {
   "cell_type": "markdown",
   "metadata": {},
   "source": [
    "Full model with predictions"
   ]
  },
  {
   "cell_type": "code",
   "execution_count": 45,
   "metadata": {
    "collapsed": false
   },
   "outputs": [
    {
     "name": "stdout",
     "output_type": "stream",
     "text": [
      "predicted=3514.816973, expected=3470.000000\n",
      "predicted=3356.121932, expected=3854.000000\n",
      "predicted=3634.408478, expected=3181.000000\n",
      "predicted=3476.951598, expected=3964.000000\n",
      "predicted=3498.105849, expected=4120.000000\n",
      "predicted=4020.978000, expected=4205.000000\n",
      "predicted=4144.458986, expected=3902.000000\n",
      "predicted=4025.116632, expected=4121.000000\n",
      "predicted=3991.415591, expected=4223.000000\n",
      "predicted=4155.653543, expected=3653.000000\n",
      "predicted=3904.919463, expected=3906.000000\n",
      "predicted=3754.895348, expected=3825.000000\n",
      "predicted=3838.588962, expected=3589.000000\n",
      "predicted=3673.501109, expected=3864.000000\n",
      "predicted=3701.965875, expected=3527.000000\n",
      "predicted=3664.385978, expected=3943.000000\n",
      "predicted=3706.476743, expected=3859.000000\n",
      "predicted=3877.856949, expected=3940.000000\n",
      "predicted=3877.318479, expected=3801.000000\n",
      "predicted=3847.339076, expected=3039.000000\n",
      "predicted=3376.244222, expected=3210.000000\n",
      "predicted=3090.731698, expected=3558.000000\n",
      "predicted=3364.794400, expected=3645.000000\n",
      "predicted=3578.865222, expected=3805.000000\n",
      "predicted=3709.178340, expected=3710.000000\n",
      "Test RMSE: 332.344\n"
     ]
    },
    {
     "data": {
      "image/png": "[encoded data removed]",
      "text/plain": [
       "<matplotlib.figure.Figure at 0x7f78e81a6668>"
      ]
     },
     "metadata": {},
     "output_type": "display_data"
    }
   ],
   "source": [
    "X=acrimegroup.values\n",
    "p=1\n",
    "size=int(len(X)*0.66)\n",
    "atrain, atest=X[0:size],X[size:len(X)]\n",
    "history=[x for x in atrain]\n",
    "predictions=list()\n",
    "for t in range(len(atest)):\n",
    "    amodel=ARIMA(history,order=(p,1,0))\n",
    "    amodel_fit=amodel.fit(disp=0)\n",
    "    output=amodel_fit.forecast()\n",
    "    yhat=output[0]\n",
    "    predictions.append(yhat)\n",
    "    obs=atest[t]\n",
    "    history.append(obs)\n",
    "    print('predicted=%f, expected=%f' % (yhat, obs))\n",
    "error=math.sqrt(mean_squared_error(atest,predictions))\n",
    "print('Test RMSE: %.3f' % error)\n",
    "#plot\n",
    "plt.plot(atest, label='Actual Crime Counts')\n",
    "plt.plot(predictions,color='red',label='Predicted Crime Counts')\n",
    "plt.title('Monthly BR Crime Counts with ARIMA')\n",
    "plt.legend(loc='upper right')\n",
    "plt.show()"
   ]
  },
  {
   "cell_type": "code",
   "execution_count": 46,
   "metadata": {
    "collapsed": false
   },
   "outputs": [
    {
     "data": {
      "text/plain": [
       "(25,)"
      ]
     },
     "execution_count": 46,
     "metadata": {},
     "output_type": "execute_result"
    }
   ],
   "source": [
    "atest.shape"
   ]
  },
  {
   "cell_type": "markdown",
   "metadata": {},
   "source": [
    "Visualization"
   ]
  },
  {
   "cell_type": "code",
   "execution_count": 47,
   "metadata": {
    "collapsed": false
   },
   "outputs": [],
   "source": [
    "arimaplot=pd.Series(index=crimeplot.index)\n",
    "arimaplot[len(crimeplot)-len(predictions):]=predictions"
   ]
  },
  {
   "cell_type": "code",
   "execution_count": 48,
   "metadata": {
    "collapsed": false
   },
   "outputs": [
    {
     "data": {
      "image/png": "[encoded data removed]",
      "text/plain": [
       "<matplotlib.figure.Figure at 0x7f78e81b82e8>"
      ]
     },
     "metadata": {},
     "output_type": "display_data"
    }
   ],
   "source": [
    "plt.plot(crimeplot, label='Actual Crime Counts')\n",
    "plt.plot(arimaplot,color='red',label='Predicted Crime Counts')\n",
    "plt.title('Monthly BR Crime Counts with ARIMA')\n",
    "plt.xlabel('Months 2011-2016')\n",
    "plt.ylabel('# of crimes')\n",
    "plt.legend(loc='upper right')\n",
    "plt.show()"
   ]
  }
 ],
 "metadata": {
  "kernelspec": {
   "display_name": "Python 3",
   "language": "python",
   "name": "python3"
  },
  "language_info": {
   "codemirror_mode": {
    "name": "ipython",
    "version": 3
   },
   "file_extension": ".py",
   "mimetype": "text/x-python",
   "name": "python",
   "nbconvert_exporter": "python",
   "pygments_lexer": "ipython3",
   "version": "3.6.0"
  }
 },
 "nbformat": 4,
 "nbformat_minor": 2
}
